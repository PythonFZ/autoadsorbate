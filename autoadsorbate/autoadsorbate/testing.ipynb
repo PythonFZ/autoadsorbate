{
 "cells": [
  {
   "cell_type": "code",
   "execution_count": 1,
   "id": "2cecb784-f69b-4142-934f-e677061c4cf7",
   "metadata": {},
   "outputs": [],
   "source": [
    "%load_ext autoreload\n",
    "%autoreload 2"
   ]
  },
  {
   "cell_type": "code",
   "execution_count": 2,
   "id": "e8225155-fc42-4e09-bfd6-39662c39ea4b",
   "metadata": {},
   "outputs": [],
   "source": [
    "import datetime\n",
    "from ase.visualize import view\n",
    "from ase.io import read, write\n",
    "import ase\n",
    "import pandas as pd\n",
    "import numpy as np"
   ]
  },
  {
   "cell_type": "code",
   "execution_count": 3,
   "id": "735e2d25-e5ab-4f9b-b9ee-9ded8a872b95",
   "metadata": {},
   "outputs": [
    {
     "data": {
      "text/html": [
       "        <script type=\"text/javascript\">\n",
       "        window.PlotlyConfig = {MathJaxConfig: 'local'};\n",
       "        if (window.MathJax && window.MathJax.Hub && window.MathJax.Hub.Config) {window.MathJax.Hub.Config({SVG: {font: \"STIX-Web\"}});}\n",
       "        if (typeof require !== 'undefined') {\n",
       "        require.undef(\"plotly\");\n",
       "        requirejs.config({\n",
       "            paths: {\n",
       "                'plotly': ['https://cdn.plot.ly/plotly-2.24.1.min']\n",
       "            }\n",
       "        });\n",
       "        require(['plotly'], function(Plotly) {\n",
       "            window._Plotly = Plotly;\n",
       "        });\n",
       "        }\n",
       "        </script>\n",
       "        "
      ]
     },
     "metadata": {},
     "output_type": "display_data"
    }
   ],
   "source": [
    "from Smile import conformers_from_smile\n",
    "from Smile import _reset_rotation, _reset_position\n",
    "\n",
    "from Surf import NEW_get_shrinkwrap_ads_sites"
   ]
  },
  {
   "cell_type": "code",
   "execution_count": 4,
   "id": "d9acce83-2bc6-45fb-a867-b32d05fcbd58",
   "metadata": {},
   "outputs": [
    {
     "name": "stdout",
     "output_type": "stream",
     "text": [
      "100 0:00:00.144807\n",
      "1000 0:00:00.906891\n",
      "10000 0:00:09.830771\n"
     ]
    }
   ],
   "source": [
    "for n in [100, 1000, 10000]:\n",
    "    t1 = datetime.datetime.utcnow() \n",
    "    xx = conformers_from_smile('ClCC',n)\n",
    "    t2 = datetime.datetime.utcnow() \n",
    "    print(n, t2-t1)"
   ]
  },
  {
   "cell_type": "code",
   "execution_count": 5,
   "id": "5841004f-1859-47aa-af59-c5f4773450be",
   "metadata": {},
   "outputs": [
    {
     "name": "stdout",
     "output_type": "stream",
     "text": [
      "100 0:00:00.124092\n",
      "1000 0:00:01.064846\n",
      "10000 0:00:11.686249\n"
     ]
    }
   ],
   "source": [
    "for n in [100, 1000, 10000]:\n",
    "    t1 = datetime.datetime.utcnow() \n",
    "    xx = conformers_from_smile('ClCC',n)\n",
    "    for x in xx:\n",
    "        x = _reset_rotation(x)\n",
    "        x = _reset_position(x)\n",
    "    t2 = datetime.datetime.utcnow() \n",
    "    print(n, t2-t1)"
   ]
  },
  {
   "cell_type": "code",
   "execution_count": 6,
   "id": "210adf1f-a0eb-4174-a63f-499a13898738",
   "metadata": {},
   "outputs": [
    {
     "data": {
      "text/plain": [
       "\u001b[0;31mSignature:\u001b[0m \u001b[0mconformers_from_smile\u001b[0m\u001b[0;34m(\u001b[0m\u001b[0msmiles\u001b[0m\u001b[0;34m,\u001b[0m \u001b[0mconformer_count\u001b[0m\u001b[0;34m=\u001b[0m\u001b[0;36m10\u001b[0m\u001b[0;34m,\u001b[0m \u001b[0mrandomSeed\u001b[0m\u001b[0;34m=\u001b[0m\u001b[0;36m61453\u001b[0m\u001b[0;34m)\u001b[0m\u001b[0;34m\u001b[0m\u001b[0;34m\u001b[0m\u001b[0m\n",
       "\u001b[0;31mDocstring:\u001b[0m <no docstring>\n",
       "\u001b[0;31mFile:\u001b[0m      ~/git/autoadsorbate/autoadsorbate/Smile.py\n",
       "\u001b[0;31mType:\u001b[0m      function"
      ]
     },
     "metadata": {},
     "output_type": "display_data"
    }
   ],
   "source": [
    "conformers_from_smile?"
   ]
  },
  {
   "cell_type": "code",
   "execution_count": 7,
   "id": "90609047-51b9-4c44-8105-16e99987ba33",
   "metadata": {},
   "outputs": [],
   "source": [
    "from autoadsorbate import Fragment\n",
    "from ase.build import fcc111"
   ]
  },
  {
   "cell_type": "code",
   "execution_count": 8,
   "id": "36e14274-e71d-46bf-99f0-23178b17b005",
   "metadata": {},
   "outputs": [],
   "source": [
    "f = Fragment('ClOCC')"
   ]
  },
  {
   "cell_type": "code",
   "execution_count": 9,
   "id": "635d30d6-f396-4690-9e53-78ca925b9dd1",
   "metadata": {},
   "outputs": [
    {
     "data": {
      "text/plain": [
       "Atoms(symbols='ClOC2H5', pbc=True, cell=[10.0, 10.0, 10.0])"
      ]
     },
     "execution_count": 9,
     "metadata": {},
     "output_type": "execute_result"
    }
   ],
   "source": [
    "f.get_conformer(0)"
   ]
  },
  {
   "cell_type": "code",
   "execution_count": 380,
   "id": "3a7e6c84-7294-4b57-8913-68beed8575e9",
   "metadata": {},
   "outputs": [],
   "source": [
    "# atoms = read(\n",
    "#     '/gpfs/projects/qm_inorganics/calculations_q2/block_2023-07-20-12-21-08-326430/launcher_2023-07-25-07-23-24-714784/launcher_2023-07-25-09-30-20-367625/qe_16532870.pbsp1/pw.out',\n",
    "#     index = -1\n",
    "# )\n",
    "atoms = fcc111(\"Cu\", size=(3,3,4), a=3.66, vacuum=16, periodic=True)"
   ]
  },
  {
   "cell_type": "code",
   "execution_count": 381,
   "id": "f7a10c87-7961-439c-a798-810af9cbf0f5",
   "metadata": {},
   "outputs": [
    {
     "data": {
      "text/plain": [
       "<Popen: returncode: None args: ['/gpfs/users/home/desa/miniconda3/envs/edelw...>"
      ]
     },
     "execution_count": 381,
     "metadata": {},
     "output_type": "execute_result"
    }
   ],
   "source": [
    "view(atoms)"
   ]
  },
  {
   "cell_type": "code",
   "execution_count": 441,
   "id": "1d9a39dd-d613-4541-a570-38fe7ddc6f44",
   "metadata": {},
   "outputs": [
    {
     "data": {
      "text/plain": [
       "\u001b[0;31mInit signature:\u001b[0m \u001b[0mSurface\u001b[0m\u001b[0;34m(\u001b[0m\u001b[0matoms\u001b[0m\u001b[0;34m,\u001b[0m \u001b[0mprecision\u001b[0m\u001b[0;34m=\u001b[0m\u001b[0;36m0.25\u001b[0m\u001b[0;34m,\u001b[0m \u001b[0mtouch_sphere_size\u001b[0m\u001b[0;34m=\u001b[0m\u001b[0;36m3\u001b[0m\u001b[0;34m)\u001b[0m\u001b[0;34m\u001b[0m\u001b[0;34m\u001b[0m\u001b[0m\n",
       "\u001b[0;31mDocstring:\u001b[0m      base class for initializing a reactive surface\n",
       "\u001b[0;31mInit docstring:\u001b[0m Initialize attributes.\n",
       "\u001b[0;31mFile:\u001b[0m           ~/git/autoadsorbate/autoadsorbate/autoadsorbate.py\n",
       "\u001b[0;31mType:\u001b[0m           type\n",
       "\u001b[0;31mSubclasses:\u001b[0m     ActiveSite"
      ]
     },
     "metadata": {},
     "output_type": "display_data"
    }
   ],
   "source": [
    "Surface?"
   ]
  },
  {
   "cell_type": "code",
   "execution_count": 5,
   "id": "f9a183db-a24c-4de4-8d38-cbb1e7d4233d",
   "metadata": {
    "collapsed": true,
    "jupyter": {
     "outputs_hidden": true
    }
   },
   "outputs": [
    {
     "name": "stdout",
     "output_type": "stream",
     "text": [
      "\n",
      "All sites:\n",
      "\n",
      "{'coordinates': [array([ 1.29400541,  2.24128311, 22.33930596]), array([10.35204328,  8.96513246, 22.33930596]), array([14.23405951,  6.72384934, 22.33930596]), array([11.64604869,  2.24128311, 22.33930596]), array([ 6.47002705,  2.24128311, 22.33930596]), array([ 6.47002705,  6.72384934, 22.33930596]), array([ 5.17602164,  8.96513246, 22.33930596]), array([ 3.88201623,  6.72384934, 22.33930596]), array([12.9400541 ,  4.48256623, 22.33930596]), array([10.35204328,  0.        , 22.33930596]), array([ 9.05803787,  6.72384934, 22.33930596]), array([11.64604869,  6.72384934, 22.33930596]), array([ 7.76403246,  0.        , 22.33930596]), array([ 7.76403246,  8.96513246, 22.33930596]), array([ 2.58801082,  4.48256623, 22.33930596]), array([ 2.58801082,  0.        , 22.33930596]), array([ 9.05803787,  2.24128311, 22.33930596]), array([ 7.76403246,  4.48256623, 22.33930596]), array([15.52806491,  8.96513246, 22.33930596]), array([12.9400541 ,  8.96513246, 22.33930596]), array([ 5.17602164,  4.48256623, 22.33930596]), array([ 3.88201623,  2.24128311, 22.33930596]), array([10.35204328,  4.48256623, 22.33930596]), array([ 5.17602164,  0.        , 22.33930596]), array([ 0.        ,  0.        , 22.33930596]), array([12.29305139, 10.08577402, 22.33930596]), array([ 9.70504057,  3.36192467, 22.33930596]), array([ 9.70504057, 10.08577402, 22.33930596]), array([ 7.76403246,  2.24128311, 22.33930596]), array([ 7.11702975,  1.12064156, 22.33930596]), array([12.29305139,  7.8444909 , 22.33930596]), array([ 8.41103516,  5.60320779, 22.33930596]), array([ 9.05803787,  4.48256623, 22.33930596]), array([13.5870568 ,  5.60320779, 22.33930596]), array([ 7.11702975,  7.8444909 , 22.33930596]), array([10.99904598, 10.08577402, 22.33930596]), array([14.88106221,  5.60320779, 22.33930596]), array([ 8.41103516,  1.12064156, 22.33930596]), array([13.5870568 , 10.08577402, 22.33930596]), array([ 3.88201623,  4.48256623, 22.33930596]), array([14.88106221,  7.8444909 , 22.33930596]), array([ 9.05803787,  8.96513246, 22.33930596]), array([ 9.70504057,  1.12064156, 22.33930596]), array([11.64604869,  4.48256623, 22.33930596]), array([ 6.47002705,  4.48256623, 22.33930596]), array([6.47002705e+00, 6.54305873e-16, 2.23393060e+01]), array([12.29305139,  3.36192467, 22.33930596]), array([15.52806491,  6.72384934, 22.33930596]), array([13.5870568 ,  7.8444909 , 22.33930596]), array([ 5.82302434,  5.60320779, 22.33930596]), array([14.88106221, 10.08577402, 22.33930596]), array([10.99904598,  5.60320779, 22.33930596]), array([ 9.70504057,  7.8444909 , 22.33930596]), array([ 8.41103516, 10.08577402, 22.33930596]), array([16.17506762,  7.8444909 , 22.33930596]), array([ 5.17602164,  6.72384934, 22.33930596]), array([ 5.82302434,  7.8444909 , 22.33930596]), array([ 8.41103516,  3.36192467, 22.33930596]), array([ 5.82302434,  3.36192467, 22.33930596]), array([10.35204328,  2.24128311, 22.33930596]), array([ 6.47002705,  8.96513246, 22.33930596]), array([12.29305139,  1.12064156, 22.33930596]), array([11.64604869,  0.        , 22.33930596]), array([16.82207032,  8.96513246, 22.33930596]), array([3.88201623e+00, 6.54305873e-16, 2.23393060e+01]), array([ 4.52901893,  3.36192467, 22.33930596]), array([ 1.94100811,  1.12064156, 22.33930596]), array([ 9.70504057,  5.60320779, 22.33930596]), array([ 7.11702975,  3.36192467, 22.33930596]), array([12.9400541 ,  2.24128311, 22.33930596]), array([ 0.6470027 ,  1.12064156, 22.33930596]), array([13.5870568 ,  3.36192467, 22.33930596]), array([10.99904598,  1.12064156, 22.33930596]), array([14.23405951,  4.48256623, 22.33930596]), array([10.35204328,  6.72384934, 22.33930596]), array([12.29305139,  5.60320779, 22.33930596]), array([ 5.17602164,  2.24128311, 22.33930596]), array([ 5.82302434, 10.08577402, 22.33930596]), array([ 3.23501352,  3.36192467, 22.33930596]), array([ 3.23501352,  1.12064156, 22.33930596]), array([ 4.52901893,  7.8444909 , 22.33930596]), array([ 2.58801082,  2.24128311, 22.33930596]), array([ 1.29400541,  0.        , 22.33930596]), array([11.64604869,  8.96513246, 22.33930596]), array([ 3.23501352,  5.60320779, 22.33930596]), array([10.99904598,  7.8444909 , 22.33930596]), array([16.17506762, 10.08577402, 22.33930596]), array([ 1.94100811,  3.36192467, 22.33930596]), array([14.23405951,  8.96513246, 22.33930596]), array([ 7.11702975,  5.60320779, 22.33930596]), array([10.99904598,  3.36192467, 22.33930596]), array([ 8.41103516,  7.8444909 , 22.33930596]), array([9.05803787e+00, 6.54305873e-16, 2.23393060e+01]), array([ 4.52901893,  1.12064156, 22.33930596]), array([ 7.11702975, 10.08577402, 22.33930596]), array([ 7.76403246,  6.72384934, 22.33930596]), array([ 5.82302434,  1.12064156, 22.33930596]), array([12.9400541 ,  6.72384934, 22.33930596]), array([ 4.52901893,  5.60320779, 22.33930596]), array([17.46907303, 10.08577402, 22.33930596]), array([12.9400541 ,  1.49418874, 22.33930596]), array([10.35204328,  5.97675497, 22.33930596]), array([14.23405951,  9.71222683, 22.33930596]), array([16.82207032,  9.71222683, 22.33930596]), array([ 9.05803787,  8.21803809, 22.33930596]), array([12.9400541 ,  7.47094372, 22.33930596]), array([11.64604869,  3.73547186, 22.33930596]), array([ 6.47002705,  5.2296606 , 22.33930596]), array([ 2.58801082,  1.49418874, 22.33930596]), array([ 7.76403246,  1.49418874, 22.33930596]), array([ 6.47002705,  9.71222683, 22.33930596]), array([10.35204328,  1.49418874, 22.33930596]), array([ 7.76403246,  7.47094372, 22.33930596]), array([14.23405951,  3.73547186, 22.33930596]), array([ 3.88201623,  3.73547186, 22.33930596]), array([ 5.17602164,  2.98837749, 22.33930596]), array([ 5.17602164,  1.49418874, 22.33930596]), array([ 9.05803787,  3.73547186, 22.33930596]), array([11.64604869,  9.71222683, 22.33930596]), array([14.23405951,  5.2296606 , 22.33930596]), array([12.9400541 ,  5.97675497, 22.33930596]), array([ 3.88201623,  0.74709437, 22.33930596]), array([ 7.76403246, 10.4593212 , 22.33930596]), array([11.64604869,  5.2296606 , 22.33930596]), array([12.9400541 ,  2.98837749, 22.33930596]), array([10.35204328, 10.4593212 , 22.33930596]), array([15.52806491,  5.97675497, 22.33930596]), array([ 2.58801082,  2.98837749, 22.33930596]), array([ 5.17602164,  7.47094372, 22.33930596]), array([ 5.17602164,  5.97675497, 22.33930596]), array([ 7.76403246,  5.97675497, 22.33930596]), array([11.64604869,  8.21803809, 22.33930596]), array([15.52806491, 10.4593212 , 22.33930596]), array([15.52806491,  7.47094372, 22.33930596]), array([10.35204328,  2.98837749, 22.33930596]), array([14.23405951,  8.21803809, 22.33930596]), array([ 9.05803787,  0.74709437, 22.33930596]), array([ 6.47002705,  3.73547186, 22.33930596]), array([11.64604869,  0.74709437, 22.33930596]), array([ 6.47002705,  0.74709437, 22.33930596]), array([ 9.05803787,  5.2296606 , 22.33930596]), array([ 7.76403246,  2.98837749, 22.33930596]), array([12.9400541 , 10.4593212 , 22.33930596]), array([18.11607573, 10.4593212 , 22.33930596]), array([ 6.47002705,  8.21803809, 22.33930596]), array([16.82207032,  8.21803809, 22.33930596]), array([ 9.05803787,  9.71222683, 22.33930596]), array([ 1.29400541,  0.74709437, 22.33930596]), array([10.35204328,  7.47094372, 22.33930596]), array([ 3.88201623,  5.2296606 , 22.33930596])], 'connectivity': [1, 1, 1, 1, 1, 1, 1, 1, 1, 1, 1, 1, 1, 1, 1, 1, 1, 1, 1, 1, 1, 1, 1, 1, 1, 2, 2, 2, 2, 2, 2, 2, 2, 2, 2, 2, 2, 2, 2, 2, 2, 2, 2, 2, 2, 2, 2, 2, 2, 2, 2, 2, 2, 2, 2, 2, 2, 2, 2, 2, 2, 2, 2, 2, 2, 2, 2, 2, 2, 2, 2, 2, 2, 2, 2, 2, 2, 2, 2, 2, 2, 2, 2, 2, 2, 2, 2, 2, 2, 2, 2, 2, 2, 2, 2, 2, 2, 2, 2, 2, 3, 3, 3, 3, 3, 3, 3, 3, 3, 3, 3, 3, 3, 3, 3, 3, 3, 3, 3, 3, 3, 3, 3, 3, 3, 3, 3, 3, 3, 3, 3, 3, 3, 3, 3, 3, 3, 3, 3, 3, 3, 3, 3, 3, 3, 3, 3, 3, 3, 3], 'topology': [[80], [97], [94], [84], [82], [91], [95], [90], [89], [79], [92], [93], [78], [96], [85], [76], [83], [87], [99], [98], [86], [81], [88], [77], [75], [77, 98], [83, 88], [76, 97], [82, 83], [78, 82], [93, 98], [87, 92], [87, 88], [89, 94], [91, 96], [77, 97], [85, 94], [78, 83], [78, 98], [85, 86], [94, 99], [96, 97], [79, 83], [88, 89], [86, 87], [77, 78], [84, 89], [90, 94], [94, 98], [86, 91], [78, 99], [88, 93], [92, 97], [76, 96], [90, 99], [90, 91], [91, 95], [83, 87], [82, 86], [83, 84], [95, 96], [75, 84], [75, 79], [95, 99], [76, 77], [81, 86], [76, 80], [88, 92], [82, 87], [80, 84], [75, 80], [80, 89], [79, 84], [85, 89], [92, 93], [89, 93], [81, 82], [75, 95], [81, 85], [76, 81], [90, 95], [80, 81], [75, 76], [97, 98], [85, 90], [93, 97], [79, 99], [80, 85], [98, 99], [87, 91], [84, 88], [92, 96], [78, 79], [77, 81], [75, 96], [91, 92], [77, 82], [93, 94], [86, 90], [79, 95], [75, 80, 84], [88, 92, 93], [78, 98, 99], [79, 95, 99], [92, 96, 97], [93, 94, 98], [84, 88, 89], [86, 87, 91], [76, 80, 81], [78, 82, 83], [75, 95, 96], [79, 83, 84], [91, 92, 96], [80, 85, 89], [81, 85, 86], [81, 82, 86], [77, 81, 82], [83, 87, 88], [77, 97, 98], [85, 89, 94], [89, 93, 94], [76, 77, 81], [75, 76, 96], [88, 89, 93], [80, 84, 89], [76, 77, 97], [85, 90, 94], [80, 81, 85], [90, 91, 95], [86, 90, 91], [87, 91, 92], [93, 97, 98], [78, 79, 99], [90, 94, 99], [83, 84, 88], [94, 98, 99], [78, 79, 83], [82, 86, 87], [75, 79, 84], [77, 78, 82], [87, 88, 92], [82, 83, 87], [77, 78, 98], [75, 79, 95], [91, 95, 96], [90, 95, 99], [76, 96, 97], [75, 76, 80], [92, 93, 97], [85, 86, 90]], 'n_vector': [array([ 0.00244875, -0.0013978 ,  0.99999602]), array([ 0.00750188, -0.00237647,  0.99996904]), array([-0.00512717,  0.00489832,  0.99997486]), array([ 1.54476590e-03, -1.76157560e-04,  9.99998791e-01]), array([-0.01544599, -0.00187713,  0.99987894]), array([-0.01167657,  0.00668018,  0.99990951]), array([-3.81031928e-03, -8.25237775e-04,  9.99992400e-01]), array([0.00191086, 0.00740887, 0.99997073]), array([-0.00718768,  0.00409983,  0.99996576]), array([ 0.00708311, -0.00196608,  0.99997298]), array([0.00788511, 0.00726747, 0.9999425 ]), array([-0.00764183, -0.00171127,  0.99996934]), array([0.00106438, 0.00172384, 0.99999795]), array([0.00575327, 0.00352651, 0.99997723]), array([ 0.01333657, -0.00351672,  0.99990488]), array([ 8.50448939e-03, -9.68069770e-04,  9.99963368e-01]), array([7.87829128e-03, 9.36654946e-04, 9.99968527e-01]), array([0.00581991, 0.00173374, 0.99998156]), array([0.01236099, 0.00984017, 0.99987518]), array([-0.00663857,  0.00430878,  0.99996868]), array([-0.00579476,  0.00300888,  0.99997868]), array([-5.73969285e-04, -2.17721911e-04,  9.99999812e-01]), array([2.73008809e-03, 7.26247616e-04, 9.99996010e-01]), array([-2.71809956e-03,  7.83104788e-04,  9.99995999e-01]), array([-0.01421595,  0.00575572,  0.99988238]), array([0.00655782, 0.00227515, 0.99997591]), array([-0.00381366, -0.00323326,  0.9999875 ]), array([-0.01028207,  0.00997642,  0.99989737]), array([-0.00154077,  0.00487733,  0.99998692]), array([ 0.0018832 , -0.00649991,  0.9999771 ]), array([ 0.01449992, -0.00283994,  0.99989084]), array([-0.01357708,  0.00133325,  0.99990694]), array([-0.00335782,  0.00276691,  0.99999053]), array([0.01455348, 0.00397099, 0.99988621]), array([-0.00213271,  0.00186738,  0.99999598]), array([-0.00951646,  0.00875079,  0.99991643]), array([ 0.00988379, -0.00695632,  0.99992696]), array([-9.34004247e-03, -8.18924454e-04,  9.99956046e-01]), array([0.01395761, 0.00366741, 0.99989586]), array([-0.01898866,  0.01069192,  0.99976253]), array([-1.16614242e-02,  3.25529998e-04,  9.99931950e-01]), array([-0.00695343,  0.01312406,  0.9998897 ]), array([-0.00803922, -0.00247734,  0.99996462]), array([-0.0010629 ,  0.00449364,  0.99998934]), array([0.00726937, 0.00801353, 0.99994147]), array([0.00179345, 0.00543327, 0.99998363]), array([ 0.0072897 , -0.0028887 ,  0.99996926]), array([ 1.38730983e-02, -6.45967514e-04,  9.99903555e-01]), array([0.00808433, 0.003047  , 0.99996268]), array([0.00911446, 0.00304627, 0.99995382]), array([0.00133879, 0.00285481, 0.99999503]), array([-0.00739646, -0.0073451 ,  0.99994567]), array([-0.00467707, -0.00302434,  0.99998449]), array([-0.00414116,  0.00818223,  0.99995795]), array([ 0.01506403, -0.01052544,  0.99983113]), array([-0.01209228,  0.02050586,  0.9997166 ]), array([-0.01577445,  0.01236055,  0.99979917]), array([-1.38701359e-02,  8.33152404e-04,  9.99903458e-01]), array([0.01403679, 0.00646077, 0.99988061]), array([-0.00475531,  0.00313374,  0.99998378]), array([-0.00941001,  0.02428793,  0.99966072]), array([ 0.02720924, -0.00764917,  0.99960049]), array([ 0.02012682, -0.00641542,  0.99977685]), array([ 0.01389111, -0.00300094,  0.99989901]), array([0.00567528, 0.00380144, 0.99997667]), array([ 0.0064946 , -0.00522261,  0.99996527]), array([-0.03046081,  0.00711488,  0.99951064]), array([-0.00777491, -0.00501147,  0.99995722]), array([0.0058338 , 0.01122795, 0.99991995]), array([ 0.0258609 , -0.00640836,  0.99964501]), array([ 0.00275291, -0.00988683,  0.99994733]), array([ 0.02606986, -0.00227928,  0.99965752]), array([0.00139274, 0.00309353, 0.99999425]), array([ 1.46097428e-02, -9.87333784e-04,  9.99892785e-01]), array([0.00825789, 0.00239935, 0.99996302]), array([ 0.00226368, -0.00399518,  0.99998946]), array([ 0.00544924, -0.00215347,  0.99998283]), array([-3.67694339e-04,  6.94800338e-03,  9.99975795e-01]), array([-0.02615002,  0.00552211,  0.99964278]), array([-0.00757743, -0.00274596,  0.99996752]), array([ 0.00245786, -0.00564846,  0.99998103]), array([-0.02355384,  0.01310128,  0.99963672]), array([-0.02509464,  0.0191404 ,  0.99950183]), array([-0.00757326,  0.00553621,  0.999956  ]), array([-0.01250016, -0.00115228,  0.99992121]), array([ 0.00808653, -0.00421266,  0.99995843]), array([-0.00605752,  0.00618349,  0.99996253]), array([-0.0093456 , -0.00591898,  0.99993881]), array([0.00218323, 0.01490218, 0.99988657]), array([0.00524661, 0.0013343 , 0.99998535]), array([ 0.00152592, -0.00298685,  0.99999438]), array([-0.01475858,  0.00269556,  0.99988745]), array([-0.00879627,  0.00834817,  0.99992646]), array([0.00685778, 0.00105556, 0.99997593]), array([-0.00666461,  0.00679609,  0.9999547 ]), array([-0.00149655,  0.01176295,  0.99992969]), array([ 0.01681775, -0.0057649 ,  0.99984195]), array([0.00404491, 0.00590314, 0.9999744 ]), array([-0.02118443,  0.01031965,  0.99972232]), array([ 1.90380938e-02, -6.16517694e-04,  9.99818569e-01]), array([0.00869379, 0.00769825, 0.99993258]), array([-0.00499475,  0.00144223,  0.99998649]), array([-0.00630067, -0.00210346,  0.99997794]), array([0.02336251, 0.00178277, 0.99972547]), array([ 0.00131253, -0.00601872,  0.99998103]), array([-0.00135937, -0.00189089,  0.99999729]), array([ 0.00567763, -0.00168876,  0.99998246]), array([-0.00625959, -0.00208659,  0.99997823]), array([-0.01633954,  0.006013  ,  0.99984842]), array([0.00813566, 0.0020888 , 0.99996472]), array([-0.01521289,  0.00430905,  0.99987499]), array([-0.00499125, -0.00481794,  0.99997594]), array([ 0.00796319, -0.00847493,  0.99993238]), array([ 0.01687699, -0.00641127,  0.99983702]), array([-0.00794931,  0.00577002,  0.99995176]), array([ 0.00485944, -0.00110817,  0.99998758]), array([0.00149979, 0.0044222 , 0.9999891 ]), array([-0.00135195,  0.00758615,  0.99997031]), array([ 0.00177323, -0.00103061,  0.9999979 ]), array([ 0.01467953, -0.01801736,  0.99972991]), array([-2.53294145e-03,  1.32696835e-04,  9.99996783e-01]), array([0.00396376, 0.00366246, 0.99998544]), array([-0.00666793,  0.02514265,  0.99966164]), array([0.00468614, 0.00147517, 0.99998793]), array([ 0.01347187, -0.010041  ,  0.99985883]), array([-0.0027088 ,  0.008546  ,  0.99995981]), array([ 0.01272346, -0.01435905,  0.99981595]), array([-0.01589437,  0.00471075,  0.99986258]), array([-0.01964994,  0.01370314,  0.99971301]), array([-0.02128021,  0.011123  ,  0.99971167]), array([-8.22473764e-04,  4.13487907e-03,  9.99991113e-01]), array([0.00373856, 0.00105285, 0.99999246]), array([0.0079765 , 0.01326017, 0.99988026]), array([ 0.01996641, -0.01593061,  0.99967373]), array([-7.68623195e-03,  6.98680557e-04,  9.99970216e-01]), array([-0.00277087,  0.00784613,  0.99996538]), array([ 0.00121656, -0.00503571,  0.99998658]), array([-5.33279127e-04,  1.65099580e-03,  9.99998495e-01]), array([ 0.01943853, -0.00124158,  0.99981028]), array([-0.00728838, -0.00499384,  0.99996097]), array([-1.69795778e-04, -1.55799934e-03,  9.99998772e-01]), array([ 0.00873674, -0.00361111,  0.99995531]), array([-0.0050041 , -0.00275608,  0.99998368]), array([ 0.01122036, -0.00542597,  0.99992233]), array([-0.01370251,  0.01261331,  0.99982656]), array([ 0.01277624, -0.00945902,  0.99987364]), array([-0.00257232,  0.0066325 ,  0.9999747 ]), array([-0.01264909, -0.00235465,  0.99991722]), array([ 3.22937098e-04, -4.24158943e-03,  9.99990952e-01]), array([-0.01484741,  0.00893252,  0.99984987])], 'h_vector': [array([1., 0., 0.]), array([1., 0., 0.]), array([1., 0., 0.]), array([1., 0., 0.]), array([1., 0., 0.]), array([1., 0., 0.]), array([1., 0., 0.]), array([1., 0., 0.]), array([1., 0., 0.]), array([1., 0., 0.]), array([1., 0., 0.]), array([1., 0., 0.]), array([1., 0., 0.]), array([1., 0., 0.]), array([1., 0., 0.]), array([1., 0., 0.]), array([1., 0., 0.]), array([1., 0., 0.]), array([1., 0., 0.]), array([1., 0., 0.]), array([1., 0., 0.]), array([1., 0., 0.]), array([1., 0., 0.]), array([1., 0., 0.]), array([1., 0., 0.]), [0.5000000000000004, -0.8660254037844385, 0.0], [-0.5000000000000004, -0.8660254037844385, 0.0], [-0.5000000000000004, 0.8660254037844385, 0.0], [-1.0, 0.0, 0.0], [0.5000000000000002, -0.8660254037844386, 0.0], [0.5000000000000007, 0.8660254037844383, 0.0], [-0.4999999999999999, -0.8660254037844387, 0.0], [-1.0, 0.0, 0.0], [0.4999999999999999, 0.8660254037844387, 0.0], [0.5000000000000007, 0.8660254037844383, 0.0], [0.4999999999999999, 0.8660254037844387, 0.0], [0.4999999999999999, -0.8660254037844387, 0.0], [-0.4999999999999999, -0.8660254037844387, 0.0], [0.4999999999999999, 0.8660254037844387, 0.0], [-1.0, 0.0, 0.0], [-0.5000000000000007, -0.8660254037844383, 0.0], [-1.0, 0.0, 0.0], [-0.5000000000000004, 0.8660254037844385, 0.0], [-1.0, 0.0, 0.0], [1.0, 0.0, 0.0], [1.0, 0.0, 0.0], [0.4999999999999999, 0.8660254037844387, 0.0], [1.0, 0.0, 0.0], [0.5000000000000007, -0.8660254037844383, 0.0], [0.5000000000000002, 0.8660254037844386, 0.0], [-0.5000000000000004, 0.8660254037844385, 0.0], [-0.5000000000000004, -0.8660254037844385, 0.0], [-0.5000000000000002, -0.8660254037844385, 0.0], [0.4999999999999999, 0.8660254037844387, 0.0], [0.49999999999999967, -0.8660254037844388, 0.0], [-1.0, 0.0, 0.0], [-0.5000000000000002, 0.8660254037844385, 0.0], [-0.4999999999999999, 0.8660254037844387, 0.0], [0.5000000000000002, -0.8660254037844386, 0.0], [-1.0, 0.0, 0.0], [-1.0, 0.0, 0.0], [0.4999999999999994, -0.866025403784439, 0.0], [1.0, 0.0, 0.0], [1.0, 0.0, 0.0], [1.0, 0.0, 0.0], [-0.5000000000000002, -0.8660254037844386, 0.0], [-0.5000000000000002, 0.8660254037844386, 0.0], [0.5000000000000004, -0.8660254037844385, 0.0], [0.5000000000000002, 0.8660254037844386, 0.0], [1.0, 0.0, 0.0], [-0.5000000000000002, -0.8660254037844386, 0.0], [0.4999999999999999, -0.8660254037844387, 0.0], [0.5000000000000004, 0.8660254037844385, 0.0], [1.0, 0.0, 0.0], [1.0, 0.0, 0.0], [0.4999999999999999, -0.8660254037844387, 0.0], [1.0, 0.0, 0.0], [0.4999999999999999, 0.8660254037844387, 0.0], [-0.5000000000000002, 0.8660254037844386, 0.0], [-0.5000000000000002, -0.8660254037844386, 0.0], [-0.5000000000000002, -0.8660254037844385, 0.0], [-1.0, 0.0, 0.0], [-1.0, 0.0, 0.0], [-1.0, 0.0, 0.0], [-0.5000000000000002, -0.8660254037844386, 0.0], [0.5000000000000007, -0.8660254037844383, 0.0], [0.4999999999999994, 0.866025403784439, 0.0], [-0.5000000000000002, -0.8660254037844386, 0.0], [1.0, 0.0, 0.0], [0.5000000000000002, -0.8660254037844386, 0.0], [0.5000000000000004, -0.8660254037844385, 0.0], [-0.5000000000000002, 0.8660254037844385, 0.0], [-1.0, 0.0, 0.0], [0.5000000000000002, -0.8660254037844386, 0.0], [-0.5000000000000004, 0.8660254037844385, 0.0], [-1.0, 0.0, 0.0], [0.5000000000000002, 0.8660254037844386, 0.0], [1.0, 0.0, 0.0], [-0.5000000000000002, 0.8660254037844386, 0.0], [0.5000000000000004, -0.8660254037844385, 0.0], [1.0, 0.0, 0.0], [-0.4999999999999999, 0.8660254037844387, 0.0], [-0.4999999999999999, -0.8660254037844387, 0.0], [0.5000000000000004, -0.8660254037844385, 0.0], [-0.5000000000000002, -0.8660254037844385, 0.0], [-1.0, 0.0, 0.0], [0.4999999999999994, 0.866025403784439, 0.0], [-0.5000000000000004, -0.8660254037844385, 0.0], [-0.4999999999999999, 0.8660254037844387, 0.0], [0.4999999999999999, 0.8660254037844387, 0.0], [-0.4999999999999999, -0.8660254037844387, 0.0], [0.4999999999999999, -0.8660254037844387, 0.0], [1.0, 0.0, 0.0], [0.4999999999999999, 0.8660254037844387, 0.0], [-1.0, 0.0, 0.0], [0.4999999999999999, -0.8660254037844387, 0.0], [1.0, 0.0, 0.0], [-1.0, 0.0, 0.0], [1.0, 0.0, 0.0], [1.0, 0.0, 0.0], [-0.4999999999999999, 0.8660254037844387, 0.0], [-0.5000000000000004, 0.8660254037844385, 0.0], [-1.0, 0.0, 0.0], [0.4999999999999994, -0.866025403784439, 0.0], [1.0, 0.0, 0.0], [-1.0, 0.0, 0.0], [-0.4999999999999999, -0.8660254037844387, 0.0], [-0.4999999999999999, -0.8660254037844387, 0.0], [0.5000000000000002, 0.8660254037844385, 0.0], [-0.4999999999999999, 0.8660254037844387, 0.0], [-1.0, 0.0, 0.0], [0.4999999999999994, 0.866025403784439, 0.0], [1.0, 0.0, 0.0], [1.0, 0.0, 0.0], [-0.4999999999999999, -0.8660254037844387, 0.0], [-1.0, 0.0, 0.0], [1.0, 0.0, 0.0], [-1.0, 0.0, 0.0], [0.4999999999999994, -0.866025403784439, 0.0], [-1.0, 0.0, 0.0], [-1.0, 0.0, 0.0], [0.4999999999999999, -0.8660254037844387, 0.0], [-0.4999999999999994, 0.866025403784439, 0.0], [0.5000000000000004, 0.8660254037844385, 0.0], [-1.0, 0.0, 0.0], [-0.5000000000000007, -0.8660254037844383, 0.0], [0.5000000000000004, 0.8660254037844385, 0.0], [-0.5000000000000002, -0.8660254037844386, 0.0], [1.0, 0.0, 0.0], [0.4999999999999994, 0.866025403784439, 0.0]], 'site_formula': [{'Cu': 1}, {'Cu': 1}, {'Cu': 1}, {'Cu': 1}, {'Cu': 1}, {'Cu': 1}, {'Cu': 1}, {'Cu': 1}, {'Cu': 1}, {'Cu': 1}, {'Cu': 1}, {'Cu': 1}, {'Cu': 1}, {'Cu': 1}, {'Cu': 1}, {'Cu': 1}, {'Cu': 1}, {'Cu': 1}, {'Cu': 1}, {'Cu': 1}, {'Cu': 1}, {'Cu': 1}, {'Cu': 1}, {'Cu': 1}, {'Cu': 1}, {'Cu': 2}, {'Cu': 2}, {'Cu': 2}, {'Cu': 2}, {'Cu': 2}, {'Cu': 2}, {'Cu': 2}, {'Cu': 2}, {'Cu': 2}, {'Cu': 2}, {'Cu': 2}, {'Cu': 2}, {'Cu': 2}, {'Cu': 2}, {'Cu': 2}, {'Cu': 2}, {'Cu': 2}, {'Cu': 2}, {'Cu': 2}, {'Cu': 2}, {'Cu': 2}, {'Cu': 2}, {'Cu': 2}, {'Cu': 2}, {'Cu': 2}, {'Cu': 2}, {'Cu': 2}, {'Cu': 2}, {'Cu': 2}, {'Cu': 2}, {'Cu': 2}, {'Cu': 2}, {'Cu': 2}, {'Cu': 2}, {'Cu': 2}, {'Cu': 2}, {'Cu': 2}, {'Cu': 2}, {'Cu': 2}, {'Cu': 2}, {'Cu': 2}, {'Cu': 2}, {'Cu': 2}, {'Cu': 2}, {'Cu': 2}, {'Cu': 2}, {'Cu': 2}, {'Cu': 2}, {'Cu': 2}, {'Cu': 2}, {'Cu': 2}, {'Cu': 2}, {'Cu': 2}, {'Cu': 2}, {'Cu': 2}, {'Cu': 2}, {'Cu': 2}, {'Cu': 2}, {'Cu': 2}, {'Cu': 2}, {'Cu': 2}, {'Cu': 2}, {'Cu': 2}, {'Cu': 2}, {'Cu': 2}, {'Cu': 2}, {'Cu': 2}, {'Cu': 2}, {'Cu': 2}, {'Cu': 2}, {'Cu': 2}, {'Cu': 2}, {'Cu': 2}, {'Cu': 2}, {'Cu': 2}, {'Cu': 3}, {'Cu': 3}, {'Cu': 3}, {'Cu': 3}, {'Cu': 3}, {'Cu': 3}, {'Cu': 3}, {'Cu': 3}, {'Cu': 3}, {'Cu': 3}, {'Cu': 3}, {'Cu': 3}, {'Cu': 3}, {'Cu': 3}, {'Cu': 3}, {'Cu': 3}, {'Cu': 3}, {'Cu': 3}, {'Cu': 3}, {'Cu': 3}, {'Cu': 3}, {'Cu': 3}, {'Cu': 3}, {'Cu': 3}, {'Cu': 3}, {'Cu': 3}, {'Cu': 3}, {'Cu': 3}, {'Cu': 3}, {'Cu': 3}, {'Cu': 3}, {'Cu': 3}, {'Cu': 3}, {'Cu': 3}, {'Cu': 3}, {'Cu': 3}, {'Cu': 3}, {'Cu': 3}, {'Cu': 3}, {'Cu': 3}, {'Cu': 3}, {'Cu': 3}, {'Cu': 3}, {'Cu': 3}, {'Cu': 3}, {'Cu': 3}, {'Cu': 3}, {'Cu': 3}, {'Cu': 3}, {'Cu': 3}]}\n",
      "\n",
      "reduced sites:\n",
      "\n",
      "{'coordinates': [array([ 0.        ,  0.        , 22.33930596]), array([ 0.6470027 ,  1.12064156, 22.33930596]), array([ 1.29400541,  0.74709437, 22.33930596]), array([ 2.58801082,  1.49418874, 22.33930596])], 'connectivity': [1, 2, 3, 3], 'topology': [[75], [75, 80], [75, 76, 80], [76, 80, 81]], 'n_vector': [array([-0.01421595,  0.00575572,  0.99988238]), array([ 0.00275291, -0.00988683,  0.99994733]), array([-0.01264909, -0.00235465,  0.99991722]), array([-0.01633954,  0.006013  ,  0.99984842])], 'h_vector': [array([1., 0., 0.]), [-0.5000000000000002, -0.8660254037844386, 0.0], [-0.5000000000000002, -0.8660254037844386, 0.0], [-0.4999999999999999, 0.8660254037844387, 0.0]], 'site_formula': [{'Cu': 1}, {'Cu': 2}, {'Cu': 3}, {'Cu': 3}]}\n"
     ]
    }
   ],
   "source": [
    "from autoadsorbate import Surface\n",
    "from ase.build import fcc111\n",
    "\n",
    "atoms = fcc111(\"Cu\", size=(5,5,4), a=3.66, vacuum=16, periodic=True)\n",
    "\n",
    "S = Surface(atoms)\n",
    "print('\\nAll sites:\\n')\n",
    "print(S.site_dict)\n",
    "S.sym_reduce()\n",
    "print('\\nreduced sites:\\n')\n",
    "print(S.site_dict)"
   ]
  },
  {
   "cell_type": "code",
   "execution_count": 7,
   "id": "b6318601-322f-4e17-b35c-f333ef49e791",
   "metadata": {},
   "outputs": [
    {
     "name": "stdout",
     "output_type": "stream",
     "text": [
      "visualizing surface Cu atoms as Zn\n"
     ]
    }
   ],
   "source": [
    "S.view_surface()"
   ]
  },
  {
   "cell_type": "code",
   "execution_count": 8,
   "id": "f51ee598-a71e-43dc-ae4c-ae1b24901fb2",
   "metadata": {},
   "outputs": [],
   "source": [
    "# for i in S.site_df.index.values:\n",
    "#     print(i, SEC.compare(S.atoms+S.get_site(0), S.atoms+S.get_site(i)))\n",
    "#     print(i, compare_sites(S.atoms, 0, i))"
   ]
  },
  {
   "cell_type": "markdown",
   "id": "5ea91201-71cf-4da2-855a-34e5f2aee536",
   "metadata": {},
   "source": [
    "## Active_site"
   ]
  },
  {
   "cell_type": "code",
   "execution_count": 9,
   "id": "bcdbb350-5a7c-4ffa-8eba-8fb7ab7e5ee4",
   "metadata": {},
   "outputs": [
    {
     "data": {
      "text/plain": [
       "'/gpfs/users/home/fakoed/git/autoadsorbate/autoadsorbate'"
      ]
     },
     "execution_count": 9,
     "metadata": {},
     "output_type": "execute_result"
    }
   ],
   "source": [
    "pwd"
   ]
  },
  {
   "cell_type": "code",
   "execution_count": 10,
   "id": "256ed5d2-bd07-4a4b-b814-4e67fd3b4f32",
   "metadata": {},
   "outputs": [],
   "source": [
    "from autoadsorbate import ActiveSite"
   ]
  },
  {
   "cell_type": "code",
   "execution_count": 11,
   "id": "16230091-affa-4cc7-a773-e9d3e6728b9b",
   "metadata": {},
   "outputs": [
    {
     "data": {
      "text/plain": [
       "<Popen: returncode: None args: ['/gpfs/users/home/desa/miniconda3/envs/edelw...>"
      ]
     },
     "execution_count": 11,
     "metadata": {},
     "output_type": "execute_result"
    }
   ],
   "source": [
    "view(atoms)"
   ]
  },
  {
   "cell_type": "code",
   "execution_count": 12,
   "id": "99a85641-94c2-4f15-98ff-3db10b342936",
   "metadata": {},
   "outputs": [],
   "source": [
    "AS = ActiveSite(atoms, must_include=[87],must_exclude=[], keep_tops=True)"
   ]
  },
  {
   "cell_type": "code",
   "execution_count": 13,
   "id": "0e4280e1-6a24-427b-8f75-af747bf4ccf5",
   "metadata": {},
   "outputs": [
    {
     "data": {
      "text/plain": [
       "<Popen: returncode: None args: ['/gpfs/users/home/desa/miniconda3/envs/edelw...>"
      ]
     },
     "execution_count": 13,
     "metadata": {},
     "output_type": "execute_result"
    }
   ],
   "source": [
    "view([AS.view_site(index=i, return_atoms=True) for i in AS.site_df.index.values])"
   ]
  },
  {
   "cell_type": "code",
   "execution_count": 107,
   "id": "0924e6f3-57ed-4345-a497-ce279baaa5d8",
   "metadata": {},
   "outputs": [],
   "source": [
    "import seaborn as sns"
   ]
  },
  {
   "cell_type": "code",
   "execution_count": 108,
   "id": "4271fec7-0987-420a-bf48-8ec2031e43c0",
   "metadata": {},
   "outputs": [
    {
     "data": {
      "text/plain": [
       "<Axes: ylabel='Count'>"
      ]
     },
     "execution_count": 108,
     "metadata": {},
     "output_type": "execute_result"
    },
    {
     "data": {
      "image/png": "[encoded data removed]",
      "text/plain": [
       "<Figure size 640x480 with 1 Axes>"
      ]
     },
     "metadata": {},
     "output_type": "display_data"
    }
   ],
   "source": [
    "sns.histplot(AS.site_df.connectivity.values)"
   ]
  },
  {
   "cell_type": "code",
   "execution_count": 50,
   "id": "051facc3-fb89-4ffc-82a7-2c5fa57de594",
   "metadata": {},
   "outputs": [],
   "source": [
    "S = Surface(atoms)"
   ]
  },
  {
   "cell_type": "code",
   "execution_count": 70,
   "id": "9bd11c4d-8350-4add-bf60-65f2f1a65c87",
   "metadata": {},
   "outputs": [
    {
     "name": "stdout",
     "output_type": "stream",
     "text": [
      "a\n"
     ]
    }
   ],
   "source": [
    "if np.sum([True, False]):\n",
    "    print('a')"
   ]
  },
  {
   "cell_type": "code",
   "execution_count": 100,
   "id": "b79d4634-3aa9-4d87-b64d-c5441b737a56",
   "metadata": {},
   "outputs": [
    {
     "data": {
      "text/plain": [
       "False"
      ]
     },
     "execution_count": 100,
     "metadata": {},
     "output_type": "execute_result"
    }
   ],
   "source": [
    "['b','a'] == ['a','b']"
   ]
  },
  {
   "cell_type": "code",
   "execution_count": 52,
   "id": "8b34bbb8-0ca6-453d-82bf-40fef1ec4e96",
   "metadata": {},
   "outputs": [
    {
     "data": {
      "text/plain": [
       "\u001b[0;31mType:\u001b[0m           Surface\n",
       "\u001b[0;31mString form:\u001b[0m    <autoadsorbate.Surface object at 0x7fcbcd17e010>\n",
       "\u001b[0;31mFile:\u001b[0m           ~/git/autoadsorbate/autoadsorbate/autoadsorbate.py\n",
       "\u001b[0;31mDocstring:\u001b[0m      base class for initializing a reactive surface\n",
       "\u001b[0;31mInit docstring:\u001b[0m Initialize attributes."
      ]
     },
     "metadata": {},
     "output_type": "display_data"
    }
   ],
   "source": [
    "S?"
   ]
  },
  {
   "cell_type": "markdown",
   "id": "c3c9ae18-99fd-4ac0-987d-8f51862612a6",
   "metadata": {},
   "source": [
    "## Intermediate"
   ]
  },
  {
   "cell_type": "code",
   "execution_count": null,
   "id": "6a07bc0f-0f97-49b1-a2b3-22da12ced669",
   "metadata": {},
   "outputs": [],
   "source": [
    "Intermediate(ActiveSite, fragments=[], n_vector_sigma=0.3, rotate=True)"
   ]
  },
  {
   "cell_type": "markdown",
   "id": "4bdbb87e-1701-4a10-ba4c-83d8e0a179f3",
   "metadata": {},
   "source": [
    "## Reaction"
   ]
  },
  {
   "cell_type": "code",
   "execution_count": 143,
   "id": "6e786fa8-54f1-4bf5-baf8-3dc02af3509a",
   "metadata": {},
   "outputs": [],
   "source": [
    "A = Fragment('CCCCC')"
   ]
  },
  {
   "cell_type": "code",
   "execution_count": 148,
   "id": "58ad1c27-6327-4bfd-938d-501d15fe40ca",
   "metadata": {},
   "outputs": [
    {
     "data": {
      "text/plain": [
       "<Popen: returncode: None args: ['/gpfs/users/home/desa/miniconda3/envs/edelw...>"
      ]
     },
     "execution_count": 148,
     "metadata": {},
     "output_type": "execute_result"
    }
   ],
   "source": [
    "view([A.get_conformer(0, rot_deg=d) for d in [0,30,60]])"
   ]
  },
  {
   "cell_type": "code",
   "execution_count": 147,
   "id": "239bc8c2-bee6-4030-a8d8-b36584e73ecf",
   "metadata": {},
   "outputs": [
    {
     "data": {
      "text/plain": [
       "Atoms(symbols='Cu36', pbc=[True, True, False], cell=[[7.764032457428293, 0.0, 0.0], [3.8820162287141464, 6.723849343939824, 0.0], [0.0, 0.0, 38.339305955702095]], tags=...)"
      ]
     },
     "execution_count": 147,
     "metadata": {},
     "output_type": "execute_result"
    }
   ],
   "source": [
    "Reaction(ActiveSite, [])"
   ]
  },
  {
   "cell_type": "code",
   "execution_count": null,
   "id": "4eec373a-5bf5-47ac-ba8c-3d7942647f9e",
   "metadata": {},
   "outputs": [],
   "source": []
  },
  {
   "cell_type": "markdown",
   "id": "f8ef3612-9c62-457f-a88d-1dcf519a894a",
   "metadata": {},
   "source": [
    "## misc"
   ]
  },
  {
   "cell_type": "code",
   "execution_count": 22,
   "id": "be2e869a-aeed-4b8d-8ee0-fa513ddc9dc1",
   "metadata": {},
   "outputs": [],
   "source": [
    "from autoadsorbate import Surface\n",
    "from ase.build import fcc111\n",
    "\n",
    "atoms = fcc111(\"Cu\", size=(5,5,4), a=3.66, vacuum=16, periodic=True)"
   ]
  },
  {
   "cell_type": "code",
   "execution_count": 15,
   "id": "5401582a-cc1b-442b-b11b-e32d2deefd3b",
   "metadata": {},
   "outputs": [
    {
     "data": {
      "text/plain": [
       "<Popen: returncode: None args: ['/gpfs/users/home/desa/miniconda3/envs/edelw...>"
      ]
     },
     "execution_count": 15,
     "metadata": {},
     "output_type": "execute_result"
    }
   ],
   "source": [
    "view(atoms)"
   ]
  },
  {
   "cell_type": "code",
   "execution_count": 23,
   "id": "2637b702-8cab-41ed-9fb8-8a40e189634f",
   "metadata": {},
   "outputs": [],
   "source": [
    "# S.view_surface()"
   ]
  },
  {
   "cell_type": "code",
   "execution_count": 48,
   "id": "e92ff0f0-c53b-471b-8257-5028b285771a",
   "metadata": {},
   "outputs": [],
   "source": [
    "S = Surface(atoms)"
   ]
  },
  {
   "cell_type": "code",
   "execution_count": 49,
   "id": "0cb15a04-c054-442e-a126-72efd54378c8",
   "metadata": {},
   "outputs": [],
   "source": [
    "S.sym_reduce()"
   ]
  },
  {
   "cell_type": "code",
   "execution_count": 55,
   "id": "7737a626-abe9-4ce2-aefc-6ea48cda0d84",
   "metadata": {},
   "outputs": [
    {
     "data": {
      "text/plain": [
       "\u001b[0;31mSignature:\u001b[0m \u001b[0mS\u001b[0m\u001b[0;34m.\u001b[0m\u001b[0msym_reduce\u001b[0m\u001b[0;34m(\u001b[0m\u001b[0;34m)\u001b[0m\u001b[0;34m\u001b[0m\u001b[0;34m\u001b[0m\u001b[0m\n",
       "\u001b[0;31mDocstring:\u001b[0m <no docstring>\n",
       "\u001b[0;31mFile:\u001b[0m      ~/git/autoadsorbate/autoadsorbate/autoadsorbate.py\n",
       "\u001b[0;31mType:\u001b[0m      method"
      ]
     },
     "metadata": {},
     "output_type": "display_data"
    }
   ],
   "source": [
    "S.sym_reduce?"
   ]
  },
  {
   "cell_type": "code",
   "execution_count": 54,
   "id": "a86d3ecf-a7ec-41d0-9e84-22638192d364",
   "metadata": {},
   "outputs": [
    {
     "data": {
      "text/plain": [
       "{'coordinates': [array([ 0.        ,  0.        , 22.33930596]),\n",
       "  array([ 0.6470027 ,  1.12064156, 22.33930596]),\n",
       "  array([ 1.29400541,  0.74709437, 22.33930596]),\n",
       "  array([ 2.58801082,  1.49418874, 22.33930596])],\n",
       " 'connectivity': [1, 2, 3, 3],\n",
       " 'topology': [[75], [75, 80], [75, 76, 80], [76, 80, 81]],\n",
       " 'n_vector': [array([-0.01421595,  0.00575572,  0.99988238]),\n",
       "  array([ 0.00275291, -0.00988683,  0.99994733]),\n",
       "  array([-0.01264909, -0.00235465,  0.99991722]),\n",
       "  array([-0.01633954,  0.006013  ,  0.99984842])],\n",
       " 'h_vector': [array([1., 0., 0.]),\n",
       "  [-0.5000000000000002, -0.8660254037844386, 0.0],\n",
       "  [-0.5000000000000002, -0.8660254037844386, 0.0],\n",
       "  [-0.4999999999999999, 0.8660254037844387, 0.0]],\n",
       " 'site_formula': [{'Cu': 1}, {'Cu': 2}, {'Cu': 3}, {'Cu': 3}]}"
      ]
     },
     "execution_count": 54,
     "metadata": {},
     "output_type": "execute_result"
    }
   ],
   "source": [
    "S.site_dict"
   ]
  },
  {
   "cell_type": "code",
   "execution_count": 53,
   "id": "f3c9e210-970c-4ee6-8b57-0ad257a96a4c",
   "metadata": {},
   "outputs": [],
   "source": [
    "# S.site_df[S.site_df.connectivity==1]"
   ]
  },
  {
   "cell_type": "markdown",
   "id": "be6f3129-2dca-4362-972c-f2142f5429b2",
   "metadata": {},
   "source": [
    "## Active_site"
   ]
  },
  {
   "cell_type": "code",
   "execution_count": 37,
   "id": "fa6697aa-4378-4047-8d6b-2316c11d5e27",
   "metadata": {},
   "outputs": [],
   "source": [
    "import seaborn as sns"
   ]
  },
  {
   "cell_type": "code",
   "execution_count": 31,
   "id": "c02eec30-6b15-4e8f-8654-f619321f221e",
   "metadata": {},
   "outputs": [],
   "source": [
    "from autoadsorbate import ActiveSite"
   ]
  },
  {
   "cell_type": "code",
   "execution_count": 34,
   "id": "cdef6272-aa5d-4204-83d3-5448503e312d",
   "metadata": {},
   "outputs": [
    {
     "data": {
      "text/plain": [
       "<Popen: returncode: None args: ['/gpfs/users/home/desa/miniconda3/envs/edelw...>"
      ]
     },
     "execution_count": 34,
     "metadata": {},
     "output_type": "execute_result"
    }
   ],
   "source": [
    "view(atoms)"
   ]
  },
  {
   "cell_type": "code",
   "execution_count": 46,
   "id": "d28ea48c-238c-4cab-99b8-dae40a3d5260",
   "metadata": {},
   "outputs": [],
   "source": [
    "AS = ActiveSite(atoms, must_include=[87],must_exclude=[], keep_tops=False)"
   ]
  },
  {
   "cell_type": "code",
   "execution_count": 47,
   "id": "494d867b-7e61-49e5-bc6c-cd726adfba8d",
   "metadata": {},
   "outputs": [
    {
     "name": "stdout",
     "output_type": "stream",
     "text": [
      "visualizing surface Cu atoms as Zn\n"
     ]
    }
   ],
   "source": [
    "AS.view_surface()"
   ]
  },
  {
   "cell_type": "code",
   "execution_count": 44,
   "id": "ed79c764-491e-4a03-ac62-d77237a47f4f",
   "metadata": {},
   "outputs": [],
   "source": [
    "# AS.view_site(AS.site_df.index.values[0])"
   ]
  },
  {
   "cell_type": "code",
   "execution_count": 45,
   "id": "e365adea-fce4-47eb-989d-de32246aa5f8",
   "metadata": {},
   "outputs": [
    {
     "data": {
      "text/plain": [
       "<Popen: returncode: None args: ['/gpfs/users/home/desa/miniconda3/envs/edelw...>"
      ]
     },
     "execution_count": 45,
     "metadata": {},
     "output_type": "execute_result"
    }
   ],
   "source": [
    "view([AS.view_site(index=i, return_atoms=True) for i in AS.site_df.index.values])"
   ]
  },
  {
   "cell_type": "code",
   "execution_count": 39,
   "id": "4606d894-8f5f-42ab-ac81-63c253a1364d",
   "metadata": {},
   "outputs": [],
   "source": [
    "# sns.histplot(AS.site_df.connectivity)"
   ]
  },
  {
   "cell_type": "code",
   "execution_count": 33,
   "id": "e28e895a-3121-481d-8946-d3c41dea466a",
   "metadata": {},
   "outputs": [
    {
     "name": "stdout",
     "output_type": "stream",
     "text": [
      "visualizing surface Cu atoms as Zn\n"
     ]
    }
   ],
   "source": [
    "AS.view_surface()"
   ]
  },
  {
   "cell_type": "code",
   "execution_count": 107,
   "id": "b0ba9923-d413-4ba1-8747-cb4124ec9058",
   "metadata": {},
   "outputs": [],
   "source": [
    "import seaborn as sns"
   ]
  },
  {
   "cell_type": "code",
   "execution_count": 108,
   "id": "483385c6-d3ad-406b-be9d-c18eef1aa32f",
   "metadata": {},
   "outputs": [
    {
     "data": {
      "text/plain": [
       "<Axes: ylabel='Count'>"
      ]
     },
     "execution_count": 108,
     "metadata": {},
     "output_type": "execute_result"
    },
    {
     "data": {
      "image/png": "[encoded data removed]",
      "text/plain": [
       "<Figure size 640x480 with 1 Axes>"
      ]
     },
     "metadata": {},
     "output_type": "display_data"
    }
   ],
   "source": [
    "sns.histplot(AS.site_df.connectivity.values)"
   ]
  },
  {
   "cell_type": "code",
   "execution_count": 50,
   "id": "1a7948ed-64bb-4143-9d86-24d1f185b569",
   "metadata": {},
   "outputs": [],
   "source": [
    "S = Surface(atoms)"
   ]
  },
  {
   "cell_type": "code",
   "execution_count": 62,
   "id": "915c1eeb-b845-435f-9d1d-680a64a201dd",
   "metadata": {},
   "outputs": [
    {
     "data": {
      "text/plain": [
       "array([0, 0, 0, 0, 0, 0, 0, 0, 0, 0, 0, 0, 0, 0, 0, 0, 0, 0, 0, 0, 0, 0,\n",
       "       0, 0, 0, 0, 0, 0, 0, 0, 0, 0, 0, 0, 0, 0, 0, 0, 0, 0, 0, 0, 0, 0,\n",
       "       0, 0, 0, 0, 0, 0, 1, 1, 1, 1, 1, 1, 1, 1, 1, 1, 1, 1, 1, 1, 1, 1,\n",
       "       1, 1, 1, 1, 1, 1, 1, 1, 1, 1, 1, 1, 1, 1, 1, 1, 1, 1, 1, 1, 1, 1,\n",
       "       1, 1, 1, 1, 1, 1, 1, 1, 1, 1, 1, 1, 2, 2, 2, 2, 2, 2, 2, 2, 2, 2,\n",
       "       2, 2, 2, 2, 2, 2, 2, 2, 2, 2, 2, 2, 2, 2, 2, 2, 2, 2, 2, 2, 2, 2,\n",
       "       2, 2, 2, 2, 2, 2, 2, 2, 2, 2, 2, 2, 2, 2, 2, 2, 2, 2])"
      ]
     },
     "execution_count": 62,
     "metadata": {},
     "output_type": "execute_result"
    }
   ],
   "source": [
    "y"
   ]
  },
  {
   "cell_type": "code",
   "execution_count": 64,
   "id": "c07fa349-35bb-4418-93f3-3ee9681b1dec",
   "metadata": {},
   "outputs": [
    {
     "data": {
      "text/plain": [
       "\u001b[0;31mInit signature:\u001b[0m\n",
       "\u001b[0msvm\u001b[0m\u001b[0;34m.\u001b[0m\u001b[0mSVC\u001b[0m\u001b[0;34m(\u001b[0m\u001b[0;34m\u001b[0m\n",
       "\u001b[0;34m\u001b[0m    \u001b[0;34m*\u001b[0m\u001b[0;34m,\u001b[0m\u001b[0;34m\u001b[0m\n",
       "\u001b[0;34m\u001b[0m    \u001b[0mC\u001b[0m\u001b[0;34m=\u001b[0m\u001b[0;36m1.0\u001b[0m\u001b[0;34m,\u001b[0m\u001b[0;34m\u001b[0m\n",
       "\u001b[0;34m\u001b[0m    \u001b[0mkernel\u001b[0m\u001b[0;34m=\u001b[0m\u001b[0;34m'rbf'\u001b[0m\u001b[0;34m,\u001b[0m\u001b[0;34m\u001b[0m\n",
       "\u001b[0;34m\u001b[0m    \u001b[0mdegree\u001b[0m\u001b[0;34m=\u001b[0m\u001b[0;36m3\u001b[0m\u001b[0;34m,\u001b[0m\u001b[0;34m\u001b[0m\n",
       "\u001b[0;34m\u001b[0m    \u001b[0mgamma\u001b[0m\u001b[0;34m=\u001b[0m\u001b[0;34m'scale'\u001b[0m\u001b[0;34m,\u001b[0m\u001b[0;34m\u001b[0m\n",
       "\u001b[0;34m\u001b[0m    \u001b[0mcoef0\u001b[0m\u001b[0;34m=\u001b[0m\u001b[0;36m0.0\u001b[0m\u001b[0;34m,\u001b[0m\u001b[0;34m\u001b[0m\n",
       "\u001b[0;34m\u001b[0m    \u001b[0mshrinking\u001b[0m\u001b[0;34m=\u001b[0m\u001b[0;32mTrue\u001b[0m\u001b[0;34m,\u001b[0m\u001b[0;34m\u001b[0m\n",
       "\u001b[0;34m\u001b[0m    \u001b[0mprobability\u001b[0m\u001b[0;34m=\u001b[0m\u001b[0;32mFalse\u001b[0m\u001b[0;34m,\u001b[0m\u001b[0;34m\u001b[0m\n",
       "\u001b[0;34m\u001b[0m    \u001b[0mtol\u001b[0m\u001b[0;34m=\u001b[0m\u001b[0;36m0.001\u001b[0m\u001b[0;34m,\u001b[0m\u001b[0;34m\u001b[0m\n",
       "\u001b[0;34m\u001b[0m    \u001b[0mcache_size\u001b[0m\u001b[0;34m=\u001b[0m\u001b[0;36m200\u001b[0m\u001b[0;34m,\u001b[0m\u001b[0;34m\u001b[0m\n",
       "\u001b[0;34m\u001b[0m    \u001b[0mclass_weight\u001b[0m\u001b[0;34m=\u001b[0m\u001b[0;32mNone\u001b[0m\u001b[0;34m,\u001b[0m\u001b[0;34m\u001b[0m\n",
       "\u001b[0;34m\u001b[0m    \u001b[0mverbose\u001b[0m\u001b[0;34m=\u001b[0m\u001b[0;32mFalse\u001b[0m\u001b[0;34m,\u001b[0m\u001b[0;34m\u001b[0m\n",
       "\u001b[0;34m\u001b[0m    \u001b[0mmax_iter\u001b[0m\u001b[0;34m=\u001b[0m\u001b[0;34m-\u001b[0m\u001b[0;36m1\u001b[0m\u001b[0;34m,\u001b[0m\u001b[0;34m\u001b[0m\n",
       "\u001b[0;34m\u001b[0m    \u001b[0mdecision_function_shape\u001b[0m\u001b[0;34m=\u001b[0m\u001b[0;34m'ovr'\u001b[0m\u001b[0;34m,\u001b[0m\u001b[0;34m\u001b[0m\n",
       "\u001b[0;34m\u001b[0m    \u001b[0mbreak_ties\u001b[0m\u001b[0;34m=\u001b[0m\u001b[0;32mFalse\u001b[0m\u001b[0;34m,\u001b[0m\u001b[0;34m\u001b[0m\n",
       "\u001b[0;34m\u001b[0m    \u001b[0mrandom_state\u001b[0m\u001b[0;34m=\u001b[0m\u001b[0;32mNone\u001b[0m\u001b[0;34m,\u001b[0m\u001b[0;34m\u001b[0m\n",
       "\u001b[0;34m\u001b[0m\u001b[0;34m)\u001b[0m\u001b[0;34m\u001b[0m\u001b[0;34m\u001b[0m\u001b[0m\n",
       "\u001b[0;31mDocstring:\u001b[0m     \n",
       "C-Support Vector Classification.\n",
       "\n",
       "The implementation is based on libsvm. The fit time scales at least\n",
       "quadratically with the number of samples and may be impractical\n",
       "beyond tens of thousands of samples. For large datasets\n",
       "consider using :class:`~sklearn.svm.LinearSVC` or\n",
       ":class:`~sklearn.linear_model.SGDClassifier` instead, possibly after a\n",
       ":class:`~sklearn.kernel_approximation.Nystroem` transformer or\n",
       "other :ref:`kernel_approximation`.\n",
       "\n",
       "The multiclass support is handled according to a one-vs-one scheme.\n",
       "\n",
       "For details on the precise mathematical formulation of the provided\n",
       "kernel functions and how `gamma`, `coef0` and `degree` affect each\n",
       "other, see the corresponding section in the narrative documentation:\n",
       ":ref:`svm_kernels`.\n",
       "\n",
       "Read more in the :ref:`User Guide <svm_classification>`.\n",
       "\n",
       "Parameters\n",
       "----------\n",
       "C : float, default=1.0\n",
       "    Regularization parameter. The strength of the regularization is\n",
       "    inversely proportional to C. Must be strictly positive. The penalty\n",
       "    is a squared l2 penalty.\n",
       "\n",
       "kernel : {'linear', 'poly', 'rbf', 'sigmoid', 'precomputed'} or callable,          default='rbf'\n",
       "    Specifies the kernel type to be used in the algorithm.\n",
       "    If none is given, 'rbf' will be used. If a callable is given it is\n",
       "    used to pre-compute the kernel matrix from data matrices; that matrix\n",
       "    should be an array of shape ``(n_samples, n_samples)``.\n",
       "\n",
       "degree : int, default=3\n",
       "    Degree of the polynomial kernel function ('poly').\n",
       "    Must be non-negative. Ignored by all other kernels.\n",
       "\n",
       "gamma : {'scale', 'auto'} or float, default='scale'\n",
       "    Kernel coefficient for 'rbf', 'poly' and 'sigmoid'.\n",
       "\n",
       "    - if ``gamma='scale'`` (default) is passed then it uses\n",
       "      1 / (n_features * X.var()) as value of gamma,\n",
       "    - if 'auto', uses 1 / n_features\n",
       "    - if float, must be non-negative.\n",
       "\n",
       "    .. versionchanged:: 0.22\n",
       "       The default value of ``gamma`` changed from 'auto' to 'scale'.\n",
       "\n",
       "coef0 : float, default=0.0\n",
       "    Independent term in kernel function.\n",
       "    It is only significant in 'poly' and 'sigmoid'.\n",
       "\n",
       "shrinking : bool, default=True\n",
       "    Whether to use the shrinking heuristic.\n",
       "    See the :ref:`User Guide <shrinking_svm>`.\n",
       "\n",
       "probability : bool, default=False\n",
       "    Whether to enable probability estimates. This must be enabled prior\n",
       "    to calling `fit`, will slow down that method as it internally uses\n",
       "    5-fold cross-validation, and `predict_proba` may be inconsistent with\n",
       "    `predict`. Read more in the :ref:`User Guide <scores_probabilities>`.\n",
       "\n",
       "tol : float, default=1e-3\n",
       "    Tolerance for stopping criterion.\n",
       "\n",
       "cache_size : float, default=200\n",
       "    Specify the size of the kernel cache (in MB).\n",
       "\n",
       "class_weight : dict or 'balanced', default=None\n",
       "    Set the parameter C of class i to class_weight[i]*C for\n",
       "    SVC. If not given, all classes are supposed to have\n",
       "    weight one.\n",
       "    The \"balanced\" mode uses the values of y to automatically adjust\n",
       "    weights inversely proportional to class frequencies in the input data\n",
       "    as ``n_samples / (n_classes * np.bincount(y))``.\n",
       "\n",
       "verbose : bool, default=False\n",
       "    Enable verbose output. Note that this setting takes advantage of a\n",
       "    per-process runtime setting in libsvm that, if enabled, may not work\n",
       "    properly in a multithreaded context.\n",
       "\n",
       "max_iter : int, default=-1\n",
       "    Hard limit on iterations within solver, or -1 for no limit.\n",
       "\n",
       "decision_function_shape : {'ovo', 'ovr'}, default='ovr'\n",
       "    Whether to return a one-vs-rest ('ovr') decision function of shape\n",
       "    (n_samples, n_classes) as all other classifiers, or the original\n",
       "    one-vs-one ('ovo') decision function of libsvm which has shape\n",
       "    (n_samples, n_classes * (n_classes - 1) / 2). However, note that\n",
       "    internally, one-vs-one ('ovo') is always used as a multi-class strategy\n",
       "    to train models; an ovr matrix is only constructed from the ovo matrix.\n",
       "    The parameter is ignored for binary classification.\n",
       "\n",
       "    .. versionchanged:: 0.19\n",
       "        decision_function_shape is 'ovr' by default.\n",
       "\n",
       "    .. versionadded:: 0.17\n",
       "       *decision_function_shape='ovr'* is recommended.\n",
       "\n",
       "    .. versionchanged:: 0.17\n",
       "       Deprecated *decision_function_shape='ovo' and None*.\n",
       "\n",
       "break_ties : bool, default=False\n",
       "    If true, ``decision_function_shape='ovr'``, and number of classes > 2,\n",
       "    :term:`predict` will break ties according to the confidence values of\n",
       "    :term:`decision_function`; otherwise the first class among the tied\n",
       "    classes is returned. Please note that breaking ties comes at a\n",
       "    relatively high computational cost compared to a simple predict.\n",
       "\n",
       "    .. versionadded:: 0.22\n",
       "\n",
       "random_state : int, RandomState instance or None, default=None\n",
       "    Controls the pseudo random number generation for shuffling the data for\n",
       "    probability estimates. Ignored when `probability` is False.\n",
       "    Pass an int for reproducible output across multiple function calls.\n",
       "    See :term:`Glossary <random_state>`.\n",
       "\n",
       "Attributes\n",
       "----------\n",
       "class_weight_ : ndarray of shape (n_classes,)\n",
       "    Multipliers of parameter C for each class.\n",
       "    Computed based on the ``class_weight`` parameter.\n",
       "\n",
       "classes_ : ndarray of shape (n_classes,)\n",
       "    The classes labels.\n",
       "\n",
       "coef_ : ndarray of shape (n_classes * (n_classes - 1) / 2, n_features)\n",
       "    Weights assigned to the features (coefficients in the primal\n",
       "    problem). This is only available in the case of a linear kernel.\n",
       "\n",
       "    `coef_` is a readonly property derived from `dual_coef_` and\n",
       "    `support_vectors_`.\n",
       "\n",
       "dual_coef_ : ndarray of shape (n_classes -1, n_SV)\n",
       "    Dual coefficients of the support vector in the decision\n",
       "    function (see :ref:`sgd_mathematical_formulation`), multiplied by\n",
       "    their targets.\n",
       "    For multiclass, coefficient for all 1-vs-1 classifiers.\n",
       "    The layout of the coefficients in the multiclass case is somewhat\n",
       "    non-trivial. See the :ref:`multi-class section of the User Guide\n",
       "    <svm_multi_class>` for details.\n",
       "\n",
       "fit_status_ : int\n",
       "    0 if correctly fitted, 1 otherwise (will raise warning)\n",
       "\n",
       "intercept_ : ndarray of shape (n_classes * (n_classes - 1) / 2,)\n",
       "    Constants in decision function.\n",
       "\n",
       "n_features_in_ : int\n",
       "    Number of features seen during :term:`fit`.\n",
       "\n",
       "    .. versionadded:: 0.24\n",
       "\n",
       "feature_names_in_ : ndarray of shape (`n_features_in_`,)\n",
       "    Names of features seen during :term:`fit`. Defined only when `X`\n",
       "    has feature names that are all strings.\n",
       "\n",
       "    .. versionadded:: 1.0\n",
       "\n",
       "n_iter_ : ndarray of shape (n_classes * (n_classes - 1) // 2,)\n",
       "    Number of iterations run by the optimization routine to fit the model.\n",
       "    The shape of this attribute depends on the number of models optimized\n",
       "    which in turn depends on the number of classes.\n",
       "\n",
       "    .. versionadded:: 1.1\n",
       "\n",
       "support_ : ndarray of shape (n_SV)\n",
       "    Indices of support vectors.\n",
       "\n",
       "support_vectors_ : ndarray of shape (n_SV, n_features)\n",
       "    Support vectors.\n",
       "\n",
       "n_support_ : ndarray of shape (n_classes,), dtype=int32\n",
       "    Number of support vectors for each class.\n",
       "\n",
       "probA_ : ndarray of shape (n_classes * (n_classes - 1) / 2)\n",
       "probB_ : ndarray of shape (n_classes * (n_classes - 1) / 2)\n",
       "    If `probability=True`, it corresponds to the parameters learned in\n",
       "    Platt scaling to produce probability estimates from decision values.\n",
       "    If `probability=False`, it's an empty array. Platt scaling uses the\n",
       "    logistic function\n",
       "    ``1 / (1 + exp(decision_value * probA_ + probB_))``\n",
       "    where ``probA_`` and ``probB_`` are learned from the dataset [2]_. For\n",
       "    more information on the multiclass case and training procedure see\n",
       "    section 8 of [1]_.\n",
       "\n",
       "shape_fit_ : tuple of int of shape (n_dimensions_of_X,)\n",
       "    Array dimensions of training vector ``X``.\n",
       "\n",
       "See Also\n",
       "--------\n",
       "SVR : Support Vector Machine for Regression implemented using libsvm.\n",
       "\n",
       "LinearSVC : Scalable Linear Support Vector Machine for classification\n",
       "    implemented using liblinear. Check the See Also section of\n",
       "    LinearSVC for more comparison element.\n",
       "\n",
       "References\n",
       "----------\n",
       ".. [1] `LIBSVM: A Library for Support Vector Machines\n",
       "    <http://www.csie.ntu.edu.tw/~cjlin/papers/libsvm.pdf>`_\n",
       "\n",
       ".. [2] `Platt, John (1999). \"Probabilistic Outputs for Support Vector\n",
       "    Machines and Comparisons to Regularized Likelihood Methods\"\n",
       "    <https://citeseerx.ist.psu.edu/doc_view/pid/42e5ed832d4310ce4378c44d05570439df28a393>`_\n",
       "\n",
       "Examples\n",
       "--------\n",
       ">>> import numpy as np\n",
       ">>> from sklearn.pipeline import make_pipeline\n",
       ">>> from sklearn.preprocessing import StandardScaler\n",
       ">>> X = np.array([[-1, -1], [-2, -1], [1, 1], [2, 1]])\n",
       ">>> y = np.array([1, 1, 2, 2])\n",
       ">>> from sklearn.svm import SVC\n",
       ">>> clf = make_pipeline(StandardScaler(), SVC(gamma='auto'))\n",
       ">>> clf.fit(X, y)\n",
       "Pipeline(steps=[('standardscaler', StandardScaler()),\n",
       "                ('svc', SVC(gamma='auto'))])\n",
       "\n",
       ">>> print(clf.predict([[-0.8, -1]]))\n",
       "[1]\n",
       "\u001b[0;31mFile:\u001b[0m           /gpfs/users/home/desa/miniconda3/envs/edelweiss0.4/lib/python3.11/site-packages/sklearn/svm/_classes.py\n",
       "\u001b[0;31mType:\u001b[0m           ABCMeta\n",
       "\u001b[0;31mSubclasses:\u001b[0m     "
      ]
     },
     "metadata": {},
     "output_type": "display_data"
    }
   ],
   "source": [
    "svm.SVC?"
   ]
  },
  {
   "cell_type": "code",
   "execution_count": null,
   "id": "cdba564a-812a-4cab-95f5-797efaf6107b",
   "metadata": {},
   "outputs": [],
   "source": []
  },
  {
   "cell_type": "code",
   "execution_count": 63,
   "id": "5631c087-2205-4b06-82e6-9e71764629cf",
   "metadata": {},
   "outputs": [
    {
     "ename": "ValueError",
     "evalue": "n_features must be equal to 2. Got 3 instead.",
     "output_type": "error",
     "traceback": [
      "\u001b[0;31m---------------------------------------------------------------------------\u001b[0m",
      "\u001b[0;31mValueError\u001b[0m                                Traceback (most recent call last)",
      "Cell \u001b[0;32mIn[63], line 38\u001b[0m\n\u001b[1;32m     35\u001b[0m X0, X1 \u001b[38;5;241m=\u001b[39m X[:, \u001b[38;5;241m0\u001b[39m], X[:, \u001b[38;5;241m1\u001b[39m]\n\u001b[1;32m     37\u001b[0m \u001b[38;5;28;01mfor\u001b[39;00m clf, title, ax \u001b[38;5;129;01min\u001b[39;00m \u001b[38;5;28mzip\u001b[39m(models, titles, sub\u001b[38;5;241m.\u001b[39mflatten()):\n\u001b[0;32m---> 38\u001b[0m     disp \u001b[38;5;241m=\u001b[39m \u001b[43mDecisionBoundaryDisplay\u001b[49m\u001b[38;5;241;43m.\u001b[39;49m\u001b[43mfrom_estimator\u001b[49m\u001b[43m(\u001b[49m\n\u001b[1;32m     39\u001b[0m \u001b[43m        \u001b[49m\u001b[43mclf\u001b[49m\u001b[43m,\u001b[49m\n\u001b[1;32m     40\u001b[0m \u001b[43m        \u001b[49m\u001b[43mX\u001b[49m\u001b[43m,\u001b[49m\n\u001b[1;32m     41\u001b[0m \u001b[43m        \u001b[49m\u001b[43mresponse_method\u001b[49m\u001b[38;5;241;43m=\u001b[39;49m\u001b[38;5;124;43m\"\u001b[39;49m\u001b[38;5;124;43mpredict\u001b[39;49m\u001b[38;5;124;43m\"\u001b[39;49m\u001b[43m,\u001b[49m\n\u001b[1;32m     42\u001b[0m \u001b[43m        \u001b[49m\u001b[43mcmap\u001b[49m\u001b[38;5;241;43m=\u001b[39;49m\u001b[43mplt\u001b[49m\u001b[38;5;241;43m.\u001b[39;49m\u001b[43mcm\u001b[49m\u001b[38;5;241;43m.\u001b[39;49m\u001b[43mcoolwarm\u001b[49m\u001b[43m,\u001b[49m\n\u001b[1;32m     43\u001b[0m \u001b[43m        \u001b[49m\u001b[43malpha\u001b[49m\u001b[38;5;241;43m=\u001b[39;49m\u001b[38;5;241;43m0.8\u001b[39;49m\u001b[43m,\u001b[49m\n\u001b[1;32m     44\u001b[0m \u001b[43m        \u001b[49m\u001b[43max\u001b[49m\u001b[38;5;241;43m=\u001b[39;49m\u001b[43max\u001b[49m\u001b[43m,\u001b[49m\n\u001b[1;32m     45\u001b[0m \u001b[43m        \u001b[49m\u001b[43mxlabel\u001b[49m\u001b[38;5;241;43m=\u001b[39;49m\u001b[43miris\u001b[49m\u001b[38;5;241;43m.\u001b[39;49m\u001b[43mfeature_names\u001b[49m\u001b[43m[\u001b[49m\u001b[38;5;241;43m0\u001b[39;49m\u001b[43m]\u001b[49m\u001b[43m,\u001b[49m\n\u001b[1;32m     46\u001b[0m \u001b[43m        \u001b[49m\u001b[43mylabel\u001b[49m\u001b[38;5;241;43m=\u001b[39;49m\u001b[43miris\u001b[49m\u001b[38;5;241;43m.\u001b[39;49m\u001b[43mfeature_names\u001b[49m\u001b[43m[\u001b[49m\u001b[38;5;241;43m1\u001b[39;49m\u001b[43m]\u001b[49m\u001b[43m,\u001b[49m\n\u001b[1;32m     47\u001b[0m \u001b[43m    \u001b[49m\u001b[43m)\u001b[49m\n\u001b[1;32m     48\u001b[0m     ax\u001b[38;5;241m.\u001b[39mscatter(X0, X1, c\u001b[38;5;241m=\u001b[39my, cmap\u001b[38;5;241m=\u001b[39mplt\u001b[38;5;241m.\u001b[39mcm\u001b[38;5;241m.\u001b[39mcoolwarm, s\u001b[38;5;241m=\u001b[39m\u001b[38;5;241m20\u001b[39m, edgecolors\u001b[38;5;241m=\u001b[39m\u001b[38;5;124m\"\u001b[39m\u001b[38;5;124mk\u001b[39m\u001b[38;5;124m\"\u001b[39m)\n\u001b[1;32m     49\u001b[0m     ax\u001b[38;5;241m.\u001b[39mset_xticks(())\n",
      "File \u001b[0;32m/gpfs/users/home/desa/miniconda3/envs/edelweiss0.4/lib/python3.11/site-packages/sklearn/inspection/_plot/decision_boundary.py:324\u001b[0m, in \u001b[0;36mDecisionBoundaryDisplay.from_estimator\u001b[0;34m(cls, estimator, X, grid_resolution, eps, plot_method, response_method, xlabel, ylabel, ax, **kwargs)\u001b[0m\n\u001b[1;32m    322\u001b[0m num_features \u001b[38;5;241m=\u001b[39m _num_features(X)\n\u001b[1;32m    323\u001b[0m \u001b[38;5;28;01mif\u001b[39;00m num_features \u001b[38;5;241m!=\u001b[39m \u001b[38;5;241m2\u001b[39m:\n\u001b[0;32m--> 324\u001b[0m     \u001b[38;5;28;01mraise\u001b[39;00m \u001b[38;5;167;01mValueError\u001b[39;00m(\n\u001b[1;32m    325\u001b[0m         \u001b[38;5;124mf\u001b[39m\u001b[38;5;124m\"\u001b[39m\u001b[38;5;124mn_features must be equal to 2. Got \u001b[39m\u001b[38;5;132;01m{\u001b[39;00mnum_features\u001b[38;5;132;01m}\u001b[39;00m\u001b[38;5;124m instead.\u001b[39m\u001b[38;5;124m\"\u001b[39m\n\u001b[1;32m    326\u001b[0m     )\n\u001b[1;32m    328\u001b[0m x0, x1 \u001b[38;5;241m=\u001b[39m _safe_indexing(X, \u001b[38;5;241m0\u001b[39m, axis\u001b[38;5;241m=\u001b[39m\u001b[38;5;241m1\u001b[39m), _safe_indexing(X, \u001b[38;5;241m1\u001b[39m, axis\u001b[38;5;241m=\u001b[39m\u001b[38;5;241m1\u001b[39m)\n\u001b[1;32m    330\u001b[0m x0_min, x0_max \u001b[38;5;241m=\u001b[39m x0\u001b[38;5;241m.\u001b[39mmin() \u001b[38;5;241m-\u001b[39m eps, x0\u001b[38;5;241m.\u001b[39mmax() \u001b[38;5;241m+\u001b[39m eps\n",
      "\u001b[0;31mValueError\u001b[0m: n_features must be equal to 2. Got 3 instead."
     ]
    },
    {
     "data": {
      "image/png": "[encoded data removed]",
      "text/plain": [
       "<Figure size 640x480 with 4 Axes>"
      ]
     },
     "metadata": {},
     "output_type": "display_data"
    }
   ],
   "source": [
    "import matplotlib.pyplot as plt\n",
    "\n",
    "from sklearn import datasets, svm\n",
    "from sklearn.inspection import DecisionBoundaryDisplay\n",
    "\n",
    "# import some data to play with\n",
    "iris = datasets.load_iris()\n",
    "# Take the first two features. We could avoid this by using a two-dim dataset\n",
    "X = iris.data[:, :3]\n",
    "y = iris.target\n",
    "\n",
    "# we create an instance of SVM and fit out data. We do not scale our\n",
    "# data since we want to plot the support vectors\n",
    "C = 1.0  # SVM regularization parameter\n",
    "models = (\n",
    "    svm.SVC(kernel=\"linear\", C=C),\n",
    "    svm.LinearSVC(C=C, max_iter=10000, dual=\"auto\"),\n",
    "    svm.SVC(kernel=\"rbf\", gamma=0.7, C=C),\n",
    "    svm.SVC(kernel=\"poly\", degree=3, gamma=\"auto\", C=C),\n",
    ")\n",
    "models = (clf.fit(X, y) for clf in models)\n",
    "\n",
    "# title for the plots\n",
    "titles = (\n",
    "    \"SVC with linear kernel\",\n",
    "    \"LinearSVC (linear kernel)\",\n",
    "    \"SVC with RBF kernel\",\n",
    "    \"SVC with polynomial (degree 3) kernel\",\n",
    ")\n",
    "\n",
    "# Set-up 2x2 grid for plotting.\n",
    "fig, sub = plt.subplots(2, 2)\n",
    "plt.subplots_adjust(wspace=0.4, hspace=0.4)\n",
    "\n",
    "X0, X1 = X[:, 0], X[:, 1]\n",
    "\n",
    "for clf, title, ax in zip(models, titles, sub.flatten()):\n",
    "    disp = DecisionBoundaryDisplay.from_estimator(\n",
    "        clf,\n",
    "        X,\n",
    "        response_method=\"predict\",\n",
    "        cmap=plt.cm.coolwarm,\n",
    "        alpha=0.8,\n",
    "        ax=ax,\n",
    "        xlabel=iris.feature_names[0],\n",
    "        ylabel=iris.feature_names[1],\n",
    "    )\n",
    "    ax.scatter(X0, X1, c=y, cmap=plt.cm.coolwarm, s=20, edgecolors=\"k\")\n",
    "    ax.set_xticks(())\n",
    "    ax.set_yticks(())\n",
    "    ax.set_title(title)\n",
    "\n",
    "plt.show()"
   ]
  },
  {
   "cell_type": "code",
   "execution_count": 66,
   "id": "e02ed75f-bcdc-4bae-bb6b-837ec7055c0a",
   "metadata": {},
   "outputs": [],
   "source": [
    "import pandas as pd"
   ]
  },
  {
   "cell_type": "code",
   "execution_count": 81,
   "id": "5130e5a5-4677-49eb-990d-8ea6c6105b9b",
   "metadata": {},
   "outputs": [],
   "source": [
    "XX = iris.data[5:, :3]"
   ]
  },
  {
   "cell_type": "code",
   "execution_count": 82,
   "id": "d7276ef4-1489-46c2-96a7-bc5d69e1ba73",
   "metadata": {},
   "outputs": [
    {
     "data": {
      "text/plain": [
       "array([[5.4, 3.9, 1.7],\n",
       "       [4.6, 3.4, 1.4],\n",
       "       [5. , 3.4, 1.5],\n",
       "       [4.4, 2.9, 1.4],\n",
       "       [4.9, 3.1, 1.5],\n",
       "       [5.4, 3.7, 1.5],\n",
       "       [4.8, 3.4, 1.6],\n",
       "       [4.8, 3. , 1.4],\n",
       "       [4.3, 3. , 1.1],\n",
       "       [5.8, 4. , 1.2],\n",
       "       [5.7, 4.4, 1.5],\n",
       "       [5.4, 3.9, 1.3],\n",
       "       [5.1, 3.5, 1.4],\n",
       "       [5.7, 3.8, 1.7],\n",
       "       [5.1, 3.8, 1.5],\n",
       "       [5.4, 3.4, 1.7],\n",
       "       [5.1, 3.7, 1.5],\n",
       "       [4.6, 3.6, 1. ],\n",
       "       [5.1, 3.3, 1.7],\n",
       "       [4.8, 3.4, 1.9],\n",
       "       [5. , 3. , 1.6],\n",
       "       [5. , 3.4, 1.6],\n",
       "       [5.2, 3.5, 1.5],\n",
       "       [5.2, 3.4, 1.4],\n",
       "       [4.7, 3.2, 1.6],\n",
       "       [4.8, 3.1, 1.6],\n",
       "       [5.4, 3.4, 1.5],\n",
       "       [5.2, 4.1, 1.5],\n",
       "       [5.5, 4.2, 1.4],\n",
       "       [4.9, 3.1, 1.5],\n",
       "       [5. , 3.2, 1.2],\n",
       "       [5.5, 3.5, 1.3],\n",
       "       [4.9, 3.6, 1.4],\n",
       "       [4.4, 3. , 1.3],\n",
       "       [5.1, 3.4, 1.5],\n",
       "       [5. , 3.5, 1.3],\n",
       "       [4.5, 2.3, 1.3],\n",
       "       [4.4, 3.2, 1.3],\n",
       "       [5. , 3.5, 1.6],\n",
       "       [5.1, 3.8, 1.9],\n",
       "       [4.8, 3. , 1.4],\n",
       "       [5.1, 3.8, 1.6],\n",
       "       [4.6, 3.2, 1.4],\n",
       "       [5.3, 3.7, 1.5],\n",
       "       [5. , 3.3, 1.4],\n",
       "       [7. , 3.2, 4.7],\n",
       "       [6.4, 3.2, 4.5],\n",
       "       [6.9, 3.1, 4.9],\n",
       "       [5.5, 2.3, 4. ],\n",
       "       [6.5, 2.8, 4.6],\n",
       "       [5.7, 2.8, 4.5],\n",
       "       [6.3, 3.3, 4.7],\n",
       "       [4.9, 2.4, 3.3],\n",
       "       [6.6, 2.9, 4.6],\n",
       "       [5.2, 2.7, 3.9],\n",
       "       [5. , 2. , 3.5],\n",
       "       [5.9, 3. , 4.2],\n",
       "       [6. , 2.2, 4. ],\n",
       "       [6.1, 2.9, 4.7],\n",
       "       [5.6, 2.9, 3.6],\n",
       "       [6.7, 3.1, 4.4],\n",
       "       [5.6, 3. , 4.5],\n",
       "       [5.8, 2.7, 4.1],\n",
       "       [6.2, 2.2, 4.5],\n",
       "       [5.6, 2.5, 3.9],\n",
       "       [5.9, 3.2, 4.8],\n",
       "       [6.1, 2.8, 4. ],\n",
       "       [6.3, 2.5, 4.9],\n",
       "       [6.1, 2.8, 4.7],\n",
       "       [6.4, 2.9, 4.3],\n",
       "       [6.6, 3. , 4.4],\n",
       "       [6.8, 2.8, 4.8],\n",
       "       [6.7, 3. , 5. ],\n",
       "       [6. , 2.9, 4.5],\n",
       "       [5.7, 2.6, 3.5],\n",
       "       [5.5, 2.4, 3.8],\n",
       "       [5.5, 2.4, 3.7],\n",
       "       [5.8, 2.7, 3.9],\n",
       "       [6. , 2.7, 5.1],\n",
       "       [5.4, 3. , 4.5],\n",
       "       [6. , 3.4, 4.5],\n",
       "       [6.7, 3.1, 4.7],\n",
       "       [6.3, 2.3, 4.4],\n",
       "       [5.6, 3. , 4.1],\n",
       "       [5.5, 2.5, 4. ],\n",
       "       [5.5, 2.6, 4.4],\n",
       "       [6.1, 3. , 4.6],\n",
       "       [5.8, 2.6, 4. ],\n",
       "       [5. , 2.3, 3.3],\n",
       "       [5.6, 2.7, 4.2],\n",
       "       [5.7, 3. , 4.2],\n",
       "       [5.7, 2.9, 4.2],\n",
       "       [6.2, 2.9, 4.3],\n",
       "       [5.1, 2.5, 3. ],\n",
       "       [5.7, 2.8, 4.1],\n",
       "       [6.3, 3.3, 6. ],\n",
       "       [5.8, 2.7, 5.1],\n",
       "       [7.1, 3. , 5.9],\n",
       "       [6.3, 2.9, 5.6],\n",
       "       [6.5, 3. , 5.8],\n",
       "       [7.6, 3. , 6.6],\n",
       "       [4.9, 2.5, 4.5],\n",
       "       [7.3, 2.9, 6.3],\n",
       "       [6.7, 2.5, 5.8],\n",
       "       [7.2, 3.6, 6.1],\n",
       "       [6.5, 3.2, 5.1],\n",
       "       [6.4, 2.7, 5.3],\n",
       "       [6.8, 3. , 5.5],\n",
       "       [5.7, 2.5, 5. ],\n",
       "       [5.8, 2.8, 5.1],\n",
       "       [6.4, 3.2, 5.3],\n",
       "       [6.5, 3. , 5.5],\n",
       "       [7.7, 3.8, 6.7],\n",
       "       [7.7, 2.6, 6.9],\n",
       "       [6. , 2.2, 5. ],\n",
       "       [6.9, 3.2, 5.7],\n",
       "       [5.6, 2.8, 4.9],\n",
       "       [7.7, 2.8, 6.7],\n",
       "       [6.3, 2.7, 4.9],\n",
       "       [6.7, 3.3, 5.7],\n",
       "       [7.2, 3.2, 6. ],\n",
       "       [6.2, 2.8, 4.8],\n",
       "       [6.1, 3. , 4.9],\n",
       "       [6.4, 2.8, 5.6],\n",
       "       [7.2, 3. , 5.8],\n",
       "       [7.4, 2.8, 6.1],\n",
       "       [7.9, 3.8, 6.4],\n",
       "       [6.4, 2.8, 5.6],\n",
       "       [6.3, 2.8, 5.1],\n",
       "       [6.1, 2.6, 5.6],\n",
       "       [7.7, 3. , 6.1],\n",
       "       [6.3, 3.4, 5.6],\n",
       "       [6.4, 3.1, 5.5],\n",
       "       [6. , 3. , 4.8],\n",
       "       [6.9, 3.1, 5.4],\n",
       "       [6.7, 3.1, 5.6],\n",
       "       [6.9, 3.1, 5.1],\n",
       "       [5.8, 2.7, 5.1],\n",
       "       [6.8, 3.2, 5.9],\n",
       "       [6.7, 3.3, 5.7],\n",
       "       [6.7, 3. , 5.2],\n",
       "       [6.3, 2.5, 5. ],\n",
       "       [6.5, 3. , 5.2],\n",
       "       [6.2, 3.4, 5.4],\n",
       "       [5.9, 3. , 5.1]])"
      ]
     },
     "execution_count": 82,
     "metadata": {},
     "output_type": "execute_result"
    }
   ],
   "source": [
    "XX"
   ]
  },
  {
   "cell_type": "code",
   "execution_count": 83,
   "id": "15197f69-8375-4340-b00d-0e2d8c668062",
   "metadata": {},
   "outputs": [],
   "source": [
    "X_test = pd.DataFrame(XX, columns=['a','b','c'])\n",
    "X_train = pd.DataFrame(X, columns=['a','b','c'])\n",
    "y_train = pd.DataFrame(y, columns=['d'])"
   ]
  },
  {
   "cell_type": "code",
   "execution_count": 86,
   "id": "656fed4b-9cc6-4562-a302-86e089b8dd61",
   "metadata": {},
   "outputs": [
    {
     "name": "stdout",
     "output_type": "stream",
     "text": [
      "Model accuracy score with default hyperparameters: 1.0000\n"
     ]
    },
    {
     "name": "stderr",
     "output_type": "stream",
     "text": [
      "/gpfs/users/home/desa/miniconda3/envs/edelweiss0.4/lib/python3.11/site-packages/sklearn/utils/validation.py:1184: DataConversionWarning:\n",
      "\n",
      "A column-vector y was passed when a 1d array was expected. Please change the shape of y to (n_samples, ), for example using ravel().\n",
      "\n"
     ]
    }
   ],
   "source": [
    "# import SVC classifier\n",
    "from sklearn.svm import SVC\n",
    "\n",
    "\n",
    "# import metrics to compute accuracy\n",
    "from sklearn.metrics import accuracy_score\n",
    "\n",
    "\n",
    "# instantiate classifier with default hyperparameters\n",
    "svc=SVC() \n",
    "\n",
    "\n",
    "# fit classifier to training set\n",
    "svc.fit(X_train,y_train)\n",
    "\n",
    "\n",
    "# make predictions on test set\n",
    "y_pred=svc.predict(X_test)\n",
    "\n",
    "\n",
    "# compute and print accuracy score\n",
    "print('Model accuracy score with default hyperparameters: {0:0.4f}'. format(accuracy_score(y_train, y_train)))\n",
    "# print('Model accuracy score with default hyperparameters: {0:0.4f}'. format(accuracy_score(y_test, y_pred)))"
   ]
  },
  {
   "cell_type": "code",
   "execution_count": null,
   "id": "750f7199-d1c2-4f76-a816-bfe36688ac93",
   "metadata": {},
   "outputs": [],
   "source": []
  }
 ],
 "metadata": {
  "kernelspec": {
   "display_name": "edelweiss0.4",
   "language": "python",
   "name": "edelweiss0.4"
  },
  "language_info": {
   "codemirror_mode": {
    "name": "ipython",
    "version": 3
   },
   "file_extension": ".py",
   "mimetype": "text/x-python",
   "name": "python",
   "nbconvert_exporter": "python",
   "pygments_lexer": "ipython3",
   "version": "3.11.4"
  }
 },
 "nbformat": 4,
 "nbformat_minor": 5
}
