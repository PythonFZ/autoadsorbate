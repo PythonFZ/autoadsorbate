{
 "cells": [
  {
   "cell_type": "code",
   "execution_count": 3,
   "id": "becc74fd-2bdb-466b-b2ed-f46369e21432",
   "metadata": {},
   "outputs": [],
   "source": [
    "import sys"
   ]
  },
  {
   "cell_type": "code",
   "execution_count": 4,
   "id": "09b845fb-0099-41bb-aa2a-261180b0614c",
   "metadata": {},
   "outputs": [],
   "source": [
    "sys.path.insert(0, '/gpfs/users/home/fakoed/git/autoadsorbate/')"
   ]
  },
  {
   "cell_type": "code",
   "execution_count": 17,
   "id": "c2513cb5-98db-4e5d-bfb8-db026bbb0629",
   "metadata": {},
   "outputs": [],
   "source": [
    "from autoadsorbate.Surf import NEW_attach_intermediate\n",
    "from autoadsorbate.autoadsorbate import Surface, Fragment"
   ]
  },
  {
   "cell_type": "code",
   "execution_count": 12,
   "id": "fe5a14a4-0dd9-43a9-af66-29152f2e43c0",
   "metadata": {},
   "outputs": [],
   "source": [
    "from ase.build import fcc111\n",
    "\n",
    "atoms = fcc111(symbol = 'Cu', size=(3,3,3), periodic=True, vacuum=10)\n",
    "\n",
    "s=Surface(atoms)\n",
    "s.sym_reduce()"
   ]
  },
  {
   "cell_type": "code",
   "execution_count": 14,
   "id": "6a276cfb-7e7a-4426-a17b-97e4532a5033",
   "metadata": {},
   "outputs": [],
   "source": [
    "from ase.visualize import view"
   ]
  },
  {
   "cell_type": "code",
   "execution_count": 18,
   "id": "fb96b26f-e0f4-405d-b0cc-c07d5de220e7",
   "metadata": {},
   "outputs": [
    {
     "data": {
      "text/plain": [
       "<Popen: returncode: None args: ['/gpfs/users/home/desa/miniconda3/envs/edelw...>"
      ]
     },
     "execution_count": 18,
     "metadata": {},
     "output_type": "execute_result"
    }
   ],
   "source": [
    "f = Fragment('S1S[O+]=C=[O+]1')\n",
    "\n",
    "view(f.get_conformer(0))"
   ]
  },
  {
   "cell_type": "code",
   "execution_count": 20,
   "id": "e08781b4-0156-46ad-b5ef-0a7578d1341e",
   "metadata": {},
   "outputs": [
    {
     "data": {
      "text/plain": [
       "<Popen: returncode: None args: ['/gpfs/users/home/desa/miniconda3/envs/edelw...>"
      ]
     },
     "execution_count": 20,
     "metadata": {},
     "output_type": "execute_result"
    }
   ],
   "source": [
    "trj = NEW_attach_intermediate(\n",
    "    atoms = atoms,\n",
    "    smiles_list=['Cl[O+]=C=O', 'S1SO[C]O1', 'S1S[O+]=C=[O+]1', 'S1SOC1=O'],\n",
    "    sites_dict=s.site_dict\n",
    ")\n",
    "\n",
    "view(trj)"
   ]
  },
  {
   "cell_type": "code",
   "execution_count": null,
   "id": "d10c30cf-bfd2-43b5-8f5d-cec547620c01",
   "metadata": {},
   "outputs": [],
   "source": []
  }
 ],
 "metadata": {
  "kernelspec": {
   "display_name": "edelweiss0.4",
   "language": "python",
   "name": "edelweiss0.4"
  },
  "language_info": {
   "codemirror_mode": {
    "name": "ipython",
    "version": 3
   },
   "file_extension": ".py",
   "mimetype": "text/x-python",
   "name": "python",
   "nbconvert_exporter": "python",
   "pygments_lexer": "ipython3",
   "version": "3.11.4"
  }
 },
 "nbformat": 4,
 "nbformat_minor": 5
}
