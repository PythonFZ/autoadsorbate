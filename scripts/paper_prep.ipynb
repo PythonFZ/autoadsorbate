{
 "cells": [
  {
   "cell_type": "markdown",
   "metadata": {},
   "source": [
    "## init"
   ]
  },
  {
   "cell_type": "code",
   "execution_count": null,
   "metadata": {},
   "outputs": [
    {
     "name": "stdout",
     "output_type": "stream",
     "text": [
      "The autoreload extension is already loaded. To reload it, use:\n",
      "  %reload_ext autoreload\n"
     ]
    }
   ],
   "source": [
    "%load_ext autoreload\n",
    "%autoreload 2\n",
    "\n",
    "import numpy as np\n",
    "import pandas as pd\n",
    "import seaborn as sns\n",
    "from ase.io import read, write\n",
    "from ase.visualize import view\n",
    "\n",
    "from autoadsorbate import Surface\n",
    "\n",
    "import sys\n",
    "sys.path.insert(0, '/home/djrm/git/hetcattoolbox')\n",
    "# sys.path.insert(0, '/home/djrm/git/autoadsorbate')\n",
    "\n",
    "from hetcattoolbox.hetcattoolbox import MPResterSimple\n",
    "from hetcattoolbox.utils import *\n"
   ]
  },
  {
   "cell_type": "code",
   "execution_count": 162,
   "metadata": {},
   "outputs": [],
   "source": [
    "# import inspect\n",
    "# inspect.getabsfile(Surface)"
   ]
  },
  {
   "cell_type": "code",
   "execution_count": 8,
   "metadata": {},
   "outputs": [
    {
     "data": {
      "application/vnd.jupyter.widget-view+json": {
       "model_id": "f1f66bd2fc854df59e16209d5e8645b0",
       "version_major": 2,
       "version_minor": 0
      },
      "text/plain": [
       "Retrieving SummaryDoc documents:   0%|          | 0/8 [00:00<?, ?it/s]"
      ]
     },
     "metadata": {},
     "output_type": "display_data"
    }
   ],
   "source": [
    "api_key = \"0FZIs3w6bTqjjZdjdrc4G0wCQpKj15Ai\"\n",
    "mprs = MPResterSimple(api_key=api_key)\n",
    "df = mprs.query_by_comp('Cu')\n",
    "# df = drop_excess_columns(df)"
   ]
  },
  {
   "cell_type": "code",
   "execution_count": null,
   "metadata": {},
   "outputs": [],
   "source": [
    "# #make mappings for some string info to keep in the group by dataframe\n",
    "# mp_id_map = {}\n",
    "# for i, mpid in enumerate(df.material_id.values):\n",
    "#     mp_id_map[i] = mpid\n",
    "# df['mpid'] = [k for k in mp_id_map.keys()]\n",
    "\n",
    "# formula_anonymous_map = {}\n",
    "# for i, fa in enumerate(df.formula_anonymous.values):\n",
    "#     formula_anonymous_map[i] = fa\n",
    "# df['formula_anonymous_id'] = [k for k in formula_anonymous_map.keys()]\n",
    "\n",
    "# #group df\n",
    "# select_df= df.groupby(['cs', 'formula_anonymous'], as_index=False).min('energy_above_hull')\n",
    "\n",
    "# #map back string data\n",
    "# select_ids = [str(mp_id_map[mpid]) for mpid in select_df.mpid.values]\n",
    "# select_df['material_id'] = select_ids\n",
    "\n",
    "# formula_anonymous = [str(formula_anonymous_map[idx]) for idx in select_df.formula_anonymous_id.values]\n",
    "# select_df['formula_anonymous'] = formula_anonymous\n",
    "\n",
    "\n",
    "# select_ids"
   ]
  },
  {
   "cell_type": "code",
   "execution_count": 3,
   "metadata": {},
   "outputs": [],
   "source": [
    "# df"
   ]
  },
  {
   "cell_type": "code",
   "execution_count": 4,
   "metadata": {},
   "outputs": [],
   "source": [
    "# select_df = df[df.density > 5]\n",
    "# select_df = df[df.energy_above_hull < 0.05]\n",
    "# select_df"
   ]
  },
  {
   "cell_type": "code",
   "execution_count": 5,
   "metadata": {},
   "outputs": [],
   "source": [
    "# sns.histplot(select_df.energy_above_hull.values, bins=100)"
   ]
  },
  {
   "cell_type": "code",
   "execution_count": 6,
   "metadata": {},
   "outputs": [],
   "source": [
    "# _df = select_df[(select_df.nsites < 50) & (select_df.energy_above_hull<0.001)]\n",
    "# bulk_trj = []\n",
    "# for mpid in _df.material_id.values:\n",
    "#         atoms = mprs.get_atoms_by_material_id(mpid) \n",
    "#         atoms.info['mpid'] = str(mpid)\n",
    "#         bulk_trj.append(atoms)"
   ]
  },
  {
   "cell_type": "code",
   "execution_count": 9,
   "metadata": {},
   "outputs": [
    {
     "data": {
      "application/vnd.jupyter.widget-view+json": {
       "model_id": "5c2789733925451b82d958fd7968502a",
       "version_major": 2,
       "version_minor": 0
      },
      "text/plain": [
       "Retrieving MaterialsDoc documents:   0%|          | 0/1 [00:00<?, ?it/s]"
      ]
     },
     "metadata": {},
     "output_type": "display_data"
    },
    {
     "data": {
      "application/vnd.jupyter.widget-view+json": {
       "model_id": "dff5a8fd75a64ec2b7406755a28e1ba3",
       "version_major": 2,
       "version_minor": 0
      },
      "text/plain": [
       "Retrieving MaterialsDoc documents:   0%|          | 0/1 [00:00<?, ?it/s]"
      ]
     },
     "metadata": {},
     "output_type": "display_data"
    },
    {
     "data": {
      "application/vnd.jupyter.widget-view+json": {
       "model_id": "f5cb56f1a38c4f7999831ea2bcaf1cc7",
       "version_major": 2,
       "version_minor": 0
      },
      "text/plain": [
       "Retrieving MaterialsDoc documents:   0%|          | 0/1 [00:00<?, ?it/s]"
      ]
     },
     "metadata": {},
     "output_type": "display_data"
    },
    {
     "data": {
      "application/vnd.jupyter.widget-view+json": {
       "model_id": "c4740bb68890482c974e7ba1857425b9",
       "version_major": 2,
       "version_minor": 0
      },
      "text/plain": [
       "Retrieving MaterialsDoc documents:   0%|          | 0/1 [00:00<?, ?it/s]"
      ]
     },
     "metadata": {},
     "output_type": "display_data"
    },
    {
     "data": {
      "application/vnd.jupyter.widget-view+json": {
       "model_id": "508fba186546463d94be8ac8e4c70971",
       "version_major": 2,
       "version_minor": 0
      },
      "text/plain": [
       "Retrieving MaterialsDoc documents:   0%|          | 0/1 [00:00<?, ?it/s]"
      ]
     },
     "metadata": {},
     "output_type": "display_data"
    }
   ],
   "source": [
    "manual_select= {\n",
    "        'Cu': 'mp-30',\n",
    "        'CuO': 'mp-1692',\n",
    "        'PdO': 'mp-1336',\n",
    "        'PdS': 'mp-20250',\n",
    "        'CuS': 'mp-760381'\n",
    "}\n",
    "\n",
    "bulk_trj= []\n",
    "for mpid in manual_select.values():\n",
    "        atoms = mprs.get_atoms_by_material_id(mpid) \n",
    "        atoms.info['mpid'] = str(mpid)\n",
    "        atoms.info['material_formula'] = atoms.get_chemical_formula(empirical=True)\n",
    "        bulk_trj.append(atoms)"
   ]
  },
  {
   "cell_type": "code",
   "execution_count": 10,
   "metadata": {},
   "outputs": [
    {
     "data": {
      "text/plain": [
       "<Popen: returncode: None args: ['/home/djrm/miniconda3/envs/aads/bin/python'...>"
      ]
     },
     "execution_count": 10,
     "metadata": {},
     "output_type": "execute_result"
    }
   ],
   "source": [
    "view(bulk_trj)"
   ]
  },
  {
   "cell_type": "code",
   "execution_count": 100,
   "metadata": {},
   "outputs": [],
   "source": [
    "construct_recepie= [\n",
    "    {\n",
    "        'mpid': 'mp-30',\n",
    "        'mi': '1#1#1',\n",
    "        'iterm': 0,\n",
    "        'vacuum': 10,\n",
    "        'layers' : 7,\n",
    "        'min_a' : 7,\n",
    "        'min_b' : 7,\n",
    "     },\n",
    "     {\n",
    "        'mpid': 'mp-30',\n",
    "        'mi': '2#1#1',\n",
    "        'iterm': 0,\n",
    "        'vacuum': 10,\n",
    "        'layers' : 7,\n",
    "        'min_a' : 7,\n",
    "        'min_b' : 6,\n",
    "     },\n",
    "     {\n",
    "        'mpid': 'mp-30',\n",
    "        'mi': '1#0#0',\n",
    "        'iterm': 0,\n",
    "        'vacuum': 10,\n",
    "        'layers' : 7,\n",
    "        'min_a' : 7,\n",
    "        'min_b' : 7,\n",
    "     },\n",
    "    {\n",
    "        'mpid': 'mp-1692',\n",
    "        'mi': '1#1#0',\n",
    "        'iterm': 2,\n",
    "        'vacuum': 10,\n",
    "        'layers' : 7,\n",
    "        'min_a' : 10,\n",
    "        'min_b' : 10,\n",
    "     },\n",
    "    {\n",
    "        'mpid': 'mp-1336',\n",
    "        'mi': '1#0#0',\n",
    "        'iterm': 0,\n",
    "        'vacuum': 10,\n",
    "        'layers' : 7,\n",
    "        'min_a' : 10,\n",
    "        'min_b' : 10,\n",
    "     },\n",
    "    {\n",
    "        'mpid': 'mp-20250',\n",
    "        'mi': '0#0#1',\n",
    "        'iterm': 0,\n",
    "        'vacuum': 10,\n",
    "        'layers' : 7,\n",
    "        'min_a' : 10,\n",
    "        'min_b' : 10,\n",
    "     },\n",
    "    {\n",
    "        'mpid': 'mp-760381',\n",
    "        'mi': '1#1#1',\n",
    "        'iterm': 0,\n",
    "        'vacuum': 10,\n",
    "        'layers' : 7,\n",
    "        'min_a' : 10,\n",
    "        'min_b' : 10,\n",
    "     }\n",
    "      \n",
    "]"
   ]
  },
  {
   "cell_type": "code",
   "execution_count": null,
   "metadata": {},
   "outputs": [
    {
     "data": {
      "application/vnd.jupyter.widget-view+json": {
       "model_id": "881babf88c054dec967d420348affe7a",
       "version_major": 2,
       "version_minor": 0
      },
      "text/plain": [
       "Retrieving MaterialsDoc documents:   0%|          | 0/1 [00:00<?, ?it/s]"
      ]
     },
     "metadata": {},
     "output_type": "display_data"
    },
    {
     "name": "stdout",
     "output_type": "stream",
     "text": [
      "[1, 1, 1]\n",
      "Using provided mi for generation: [1, 1, 1]\n"
     ]
    },
    {
     "data": {
      "application/vnd.jupyter.widget-view+json": {
       "model_id": "81a82d9df4b348f88d2b890025c3fc8f",
       "version_major": 2,
       "version_minor": 0
      },
      "text/plain": [
       "Retrieving MaterialsDoc documents:   0%|          | 0/1 [00:00<?, ?it/s]"
      ]
     },
     "metadata": {},
     "output_type": "display_data"
    },
    {
     "name": "stdout",
     "output_type": "stream",
     "text": [
      "[2, 1, 1]\n",
      "Using provided mi for generation: [2, 1, 1]\n"
     ]
    },
    {
     "data": {
      "application/vnd.jupyter.widget-view+json": {
       "model_id": "67d5437e027c4fd1ac5c78702e8306a5",
       "version_major": 2,
       "version_minor": 0
      },
      "text/plain": [
       "Retrieving MaterialsDoc documents:   0%|          | 0/1 [00:00<?, ?it/s]"
      ]
     },
     "metadata": {},
     "output_type": "display_data"
    },
    {
     "name": "stdout",
     "output_type": "stream",
     "text": [
      "[1, 0, 0]\n",
      "Using provided mi for generation: [1, 0, 0]\n"
     ]
    },
    {
     "data": {
      "application/vnd.jupyter.widget-view+json": {
       "model_id": "fec7f63d5032419c8351bbb0b311849b",
       "version_major": 2,
       "version_minor": 0
      },
      "text/plain": [
       "Retrieving MaterialsDoc documents:   0%|          | 0/1 [00:00<?, ?it/s]"
      ]
     },
     "metadata": {},
     "output_type": "display_data"
    },
    {
     "name": "stdout",
     "output_type": "stream",
     "text": [
      "[1, 1, 0]\n",
      "Using provided mi for generation: [1, 1, 0]\n"
     ]
    },
    {
     "name": "stderr",
     "output_type": "stream",
     "text": [
      "/home/djrm/miniconda3/envs/aads/lib/python3.12/site-packages/spglib/spglib.py:115: DeprecationWarning: dict interface (SpglibDataset['rotations']) is deprecated.Use attribute interface ({self.__class__.__name__}.{key}) instead\n",
      "  warnings.warn(\n",
      "/home/djrm/miniconda3/envs/aads/lib/python3.12/site-packages/spglib/spglib.py:115: DeprecationWarning: dict interface (SpglibDataset['translations']) is deprecated.Use attribute interface ({self.__class__.__name__}.{key}) instead\n",
      "  warnings.warn(\n"
     ]
    },
    {
     "data": {
      "application/vnd.jupyter.widget-view+json": {
       "model_id": "900406ff2bc9447d8e44e6068cab2114",
       "version_major": 2,
       "version_minor": 0
      },
      "text/plain": [
       "Retrieving MaterialsDoc documents:   0%|          | 0/1 [00:00<?, ?it/s]"
      ]
     },
     "metadata": {},
     "output_type": "display_data"
    },
    {
     "name": "stdout",
     "output_type": "stream",
     "text": [
      "[1, 0, 0]\n",
      "Using provided mi for generation: [1, 0, 0]\n"
     ]
    },
    {
     "data": {
      "application/vnd.jupyter.widget-view+json": {
       "model_id": "bde0f498b8644bb682cc955c144a8cd1",
       "version_major": 2,
       "version_minor": 0
      },
      "text/plain": [
       "Retrieving MaterialsDoc documents:   0%|          | 0/1 [00:00<?, ?it/s]"
      ]
     },
     "metadata": {},
     "output_type": "display_data"
    },
    {
     "name": "stdout",
     "output_type": "stream",
     "text": [
      "[0, 0, 1]\n",
      "Using provided mi for generation: [0, 0, 1]\n"
     ]
    },
    {
     "data": {
      "application/vnd.jupyter.widget-view+json": {
       "model_id": "61cf97c06b154087b3670ac0c06956af",
       "version_major": 2,
       "version_minor": 0
      },
      "text/plain": [
       "Retrieving MaterialsDoc documents:   0%|          | 0/1 [00:00<?, ?it/s]"
      ]
     },
     "metadata": {},
     "output_type": "display_data"
    },
    {
     "name": "stdout",
     "output_type": "stream",
     "text": [
      "[1, 1, 1]\n",
      "Using provided mi for generation: [1, 1, 1]\n"
     ]
    }
   ],
   "source": [
    "slab_trj=[]\n",
    "for r in construct_recepie:\n",
    "    mpid = r['mpid']\n",
    "    atoms = mprs.get_atoms_by_material_id(mpid) \n",
    "    r['mpid'] = str(mpid)\n",
    "    r['material_formula'] = atoms.get_chemical_formula(empirical=True)\n",
    "    \n",
    "    mi = str_to_mi(r['mi'])\n",
    "    print(mi)\n",
    "\n",
    "    out_atoms = get_scalled_slabs(\n",
    "        atoms,\n",
    "        layers = r['layers'],\n",
    "        vacuum = r['vacuum'],\n",
    "        mi = mi,\n",
    "        min_a = r['min_a'],\n",
    "        min_b = r['min_b'],\n",
    "    )[r['iterm']]\n",
    "    r['mi'] = mi_to_str(mi)\n",
    "    out_atoms.info['slab_info'] = r\n",
    "    \n",
    "    pop_k = [k for k in out_atoms.info.keys() if k not in ['slab_info']]\n",
    "    for k in pop_k:\n",
    "        out_atoms.info.pop(k)\n",
    "    \n",
    "\n",
    "    slab_trj.append(out_atoms)"
   ]
  },
  {
   "cell_type": "code",
   "execution_count": 136,
   "metadata": {},
   "outputs": [],
   "source": [
    "# atoms.get_chemical_formula?"
   ]
  },
  {
   "cell_type": "code",
   "execution_count": null,
   "metadata": {},
   "outputs": [],
   "source": [
    "# view(slab_trj)"
   ]
  },
  {
   "cell_type": "code",
   "execution_count": 139,
   "metadata": {},
   "outputs": [],
   "source": [
    "# slab_trj[0].info['slab_info']"
   ]
  },
  {
   "cell_type": "code",
   "execution_count": 117,
   "metadata": {},
   "outputs": [],
   "source": [
    "# trj = []\n",
    "\n",
    "# for bulk in bulk_trj:\n",
    "#         trj += get_scalled_slabs(\n",
    "#                 bulk,\n",
    "#                 layers = 7,\n",
    "#                 vacuum = 5,\n",
    "#                 max_mi = 3,\n",
    "#                 min_a = 6,\n",
    "#                 min_b = 6,\n",
    "#         )"
   ]
  },
  {
   "cell_type": "code",
   "execution_count": 118,
   "metadata": {},
   "outputs": [],
   "source": [
    "# x = trj[330]\n",
    "# x = trj[842]\n",
    "# # x = trj[64]\n",
    "# # x = trj[263]\n",
    "\n",
    "# print(x.get_chemical_formula(empirical=True))\n",
    "# view(x)\n",
    "# x.info\n",
    "\n"
   ]
  },
  {
   "cell_type": "code",
   "execution_count": 141,
   "metadata": {},
   "outputs": [],
   "source": [
    "# write('./trj.xyz', trj)"
   ]
  },
  {
   "cell_type": "code",
   "execution_count": 142,
   "metadata": {},
   "outputs": [
    {
     "name": "stdout",
     "output_type": "stream",
     "text": [
      "{'slab_info': {'mpid': 'mp-30', 'mi': '1#1#1', 'iterm': 0, 'vacuum': 10, 'layers': 7, 'min_a': 7, 'min_b': 7, 'material_formula': 'Cu'}}\n",
      "{'slab_info': {'mpid': 'mp-30', 'mi': '2#1#1', 'iterm': 0, 'vacuum': 10, 'layers': 7, 'min_a': 7, 'min_b': 6, 'material_formula': 'Cu'}}\n",
      "{'slab_info': {'mpid': 'mp-30', 'mi': '1#0#0', 'iterm': 0, 'vacuum': 10, 'layers': 7, 'min_a': 7, 'min_b': 7, 'material_formula': 'Cu'}}\n",
      "{'slab_info': {'mpid': 'mp-1692', 'mi': '1#1#0', 'iterm': 2, 'vacuum': 10, 'layers': 7, 'min_a': 10, 'min_b': 10, 'material_formula': 'CuO'}}\n",
      "{'slab_info': {'mpid': 'mp-1336', 'mi': '1#0#0', 'iterm': 0, 'vacuum': 10, 'layers': 7, 'min_a': 10, 'min_b': 10, 'material_formula': 'OPd'}}\n",
      "{'slab_info': {'mpid': 'mp-20250', 'mi': '0#0#1', 'iterm': 0, 'vacuum': 10, 'layers': 7, 'min_a': 10, 'min_b': 10, 'material_formula': 'PdS'}}\n",
      "{'slab_info': {'mpid': 'mp-760381', 'mi': '1#1#1', 'iterm': 0, 'vacuum': 10, 'layers': 7, 'min_a': 10, 'min_b': 10, 'material_formula': 'CuS'}}\n"
     ]
    }
   ],
   "source": [
    "surfaces = []\n",
    "for atoms in slab_trj:\n",
    "    print(atoms.info)\n",
    "    s = Surface(atoms, precision=0.5)\n",
    "    s.sym_reduce()\n",
    "    surfaces.append(s)"
   ]
  },
  {
   "cell_type": "code",
   "execution_count": 153,
   "metadata": {},
   "outputs": [
    {
     "name": "stderr",
     "output_type": "stream",
     "text": [
      "/home/djrm/miniconda3/envs/aads/lib/python3.12/site-packages/ase/io/extxyz.py:311: UserWarning: Skipping unhashable information site_info\n",
      "  warnings.warn('Skipping unhashable information '\n"
     ]
    }
   ],
   "source": [
    "sites_traj = []\n",
    "for s in surfaces:\n",
    "    atoms = s.atoms\n",
    "    for i in s.site_df.index.values:\n",
    "        site_info = s.site_df.loc[i].to_dict()\n",
    "        atoms.info['site_info'] =site_info\n",
    "        sites_traj.append(atoms)\n",
    "write('./sites_traj.xyz', sites_traj)\n"
   ]
  },
  {
   "cell_type": "code",
   "execution_count": 154,
   "metadata": {},
   "outputs": [
    {
     "data": {
      "text/plain": [
       "<Popen: returncode: None args: ['/home/djrm/miniconda3/envs/aads/bin/python'...>"
      ]
     },
     "execution_count": 154,
     "metadata": {},
     "output_type": "execute_result"
    }
   ],
   "source": [
    "view(sites_traj)    "
   ]
  },
  {
   "cell_type": "code",
   "execution_count": null,
   "metadata": {},
   "outputs": [
    {
     "data": {
      "text/html": [
       "<div>\n",
       "<style scoped>\n",
       "    .dataframe tbody tr th:only-of-type {\n",
       "        vertical-align: middle;\n",
       "    }\n",
       "\n",
       "    .dataframe tbody tr th {\n",
       "        vertical-align: top;\n",
       "    }\n",
       "\n",
       "    .dataframe thead th {\n",
       "        text-align: right;\n",
       "    }\n",
       "</style>\n",
       "<table border=\"1\" class=\"dataframe\">\n",
       "  <thead>\n",
       "    <tr style=\"text-align: right;\">\n",
       "      <th></th>\n",
       "    </tr>\n",
       "  </thead>\n",
       "  <tbody>\n",
       "  </tbody>\n",
       "</table>\n",
       "</div>"
      ],
      "text/plain": [
       "Empty DataFrame\n",
       "Columns: []\n",
       "Index: []"
      ]
     },
     "execution_count": 155,
     "metadata": {},
     "output_type": "execute_result"
    }
   ],
   "source": [
    "xx = pd.DataFrame({})\n",
    "xx.sort"
   ]
  },
  {
   "cell_type": "code",
   "execution_count": 148,
   "metadata": {},
   "outputs": [],
   "source": [
    "# for s in surfaces:\n",
    "#     s.site_df.to_csv(f'{s.atoms.info['slab_info']['mpid']}_cache_site_df.csv')"
   ]
  },
  {
   "cell_type": "code",
   "execution_count": 140,
   "metadata": {},
   "outputs": [],
   "source": [
    "# from dscribe.descriptors import SOAP\n",
    "\n",
    "# species = get_all_species_in_traj(trj)\n",
    "# r_cut = 6.0\n",
    "# n_max = 8\n",
    "# l_max = 6\n",
    "\n",
    "# # Setting up the SOAP descriptor\n",
    "# soap = SOAP(\n",
    "#     species=species,\n",
    "#     periodic=True,\n",
    "#     r_cut=r_cut,\n",
    "#     n_max=n_max,\n",
    "#     l_max=l_max,\n",
    "# )\n",
    "\n",
    "# view_trj= []\n",
    "# site_pos=[]\n",
    "# soaps = []\n",
    "\n",
    "# for s in surfaces:\n",
    "#     for i in s.site_df.index.values:\n",
    "#         pos = s.site_df.coordinates.loc[i]\n",
    "#         view_trj.append(s.view_site(i, return_atoms=True))\n",
    "#         site_pos.append(pos)\n",
    "#         soaps.append(soap.create(s.atoms, centers=[pos]))"
   ]
  }
 ],
 "metadata": {
  "kernelspec": {
   "display_name": "aads",
   "language": "python",
   "name": "python3"
  },
  "language_info": {
   "codemirror_mode": {
    "name": "ipython",
    "version": 3
   },
   "file_extension": ".py",
   "mimetype": "text/x-python",
   "name": "python",
   "nbconvert_exporter": "python",
   "pygments_lexer": "ipython3",
   "version": "3.12.8"
  }
 },
 "nbformat": 4,
 "nbformat_minor": 2
}
