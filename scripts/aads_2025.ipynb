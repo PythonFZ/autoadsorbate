{
 "cells": [
  {
   "cell_type": "markdown",
   "id": "ff5c06ac-0527-4158-92c6-2a5cd7e549e6",
   "metadata": {},
   "source": [
    "## init"
   ]
  },
  {
   "cell_type": "code",
   "execution_count": 289,
   "id": "1b3f770d-d1a5-4498-a508-be4469a8970c",
   "metadata": {},
   "outputs": [
    {
     "name": "stdout",
     "output_type": "stream",
     "text": [
      "The autoreload extension is already loaded. To reload it, use:\n",
      "  %reload_ext autoreload\n"
     ]
    }
   ],
   "source": [
    "%load_ext autoreload\n",
    "%autoreload 2"
   ]
  },
  {
   "cell_type": "code",
   "execution_count": 290,
   "id": "cd5c4cd6-d15b-4ad3-89b0-200610d1c960",
   "metadata": {},
   "outputs": [],
   "source": [
    "from ase.io import read, write\n",
    "from ase.visualize import view\n",
    "from ase.visualize.plot import plot_atoms\n",
    "from ase.build.tools import sort as sort_atoms\n",
    "\n",
    "import sys\n",
    "sys.path.insert(0, '/root/git/hetcattoolbox')\n",
    "\n",
    "from glob import glob\n",
    "import pandas as pd\n",
    "import numpy as np\n",
    "import ast"
   ]
  },
  {
   "cell_type": "code",
   "execution_count": 291,
   "id": "67a98c50-f0d3-49e4-a4d8-183afe68d572",
   "metadata": {},
   "outputs": [],
   "source": [
    "from autoadsorbate.string_utils import _example_config, _show_ussage, construct_smiles, xx_get_special_symbols\n",
    "from autoadsorbate.autoadsorbate import Fragment, Surface\n",
    "from autoadsorbate.Surf import conformer_to_site\n",
    "from autoadsorbate.utils import get_backbone_bond_change,read_relax_traj,  read_relax_dir, compute_energy, snap_pos_compare\n",
    "from autoadsorbate.utils import _compare_pos, slice_traj_by_formula,  get_drop_snapped, count_C_next_to_O\n",
    "from autoadsorbate.plotting import *"
   ]
  },
  {
   "cell_type": "code",
   "execution_count": 292,
   "id": "8336e99e-5921-4b65-863a-a6adb2976e85",
   "metadata": {},
   "outputs": [],
   "source": [
    "import seaborn as sns\n",
    "import plotly.express as px\n",
    "import matplotlib.pyplot as plt\n",
    "import matplotlib.font_manager\n",
    "plt.rcParams[\"font.family\"] = \"Arial\""
   ]
  },
  {
   "cell_type": "markdown",
   "id": "9955e9be-5abc-4e90-adb2-2cf3be49e36d",
   "metadata": {},
   "source": [
    "## aads MACE relaxed intermediates"
   ]
  },
  {
   "cell_type": "code",
   "execution_count": 293,
   "id": "e82adaea-b487-47ba-9ba1-c83074f904ae",
   "metadata": {},
   "outputs": [],
   "source": [
    "# # all_files = glob('./RELAX/relax_Cu211_get_population/prerelax/MACE*.xyz')\n",
    "# all_files = glob('./prep/relax/MACE*.xyz')\n",
    "# len(all_files)\n",
    "\n",
    "# rdf, relaxed_traj = read_relax_dir(all_files)\n",
    "# _ = rdf.pop('site')\n",
    "# rdf['origin'] = ['aads' for _ in rdf['uid']]"
   ]
  },
  {
   "cell_type": "code",
   "execution_count": 294,
   "id": "27240306",
   "metadata": {},
   "outputs": [],
   "source": [
    "# from mace.calculators import mace_mp\n",
    "\n",
    "# ref_atoms = relaxed_traj[0].copy()[[atom.index for atom in relaxed_traj[0] if atom.symbol == 'Cu']]\n",
    "# calc = mace_mp(model='./models/mace-mp-0b3-medium.model', dispersion=True, device='cpu')\n",
    "# ref_atoms.set_calculator(calc)\n",
    "# parent_en = ref_atoms.get_potential_energy()\n",
    "\n",
    "# ref_dict={\n",
    "#     'C' : 0,\n",
    "#     'O' : 0,\n",
    "#     'H' : 0\n",
    "# }\n",
    "\n",
    "# # parent_en = read('./relax_Cu111_Cu2_try2/MACE_relax_Cu111_Cu2_slab.xyz', index=-1).get_potential_energy()\n",
    "\n",
    "# xdf = compute_energy(rdf, ref_dict, parent_en)\n",
    "# xdf = xdf[xdf['energy']>-100]"
   ]
  },
  {
   "cell_type": "markdown",
   "id": "a4690341-0d53-4d42-bef1-a2928caa2205",
   "metadata": {},
   "source": [
    "### chemiscope"
   ]
  },
  {
   "cell_type": "code",
   "execution_count": null,
   "id": "a062ac9f",
   "metadata": {},
   "outputs": [],
   "source": [
    "# xdf = pd.read_csv('relaxed_traj.csv')\n",
    "# relaxed_traj = read('relaxed_traj.xyz', index=':')"
   ]
  },
  {
   "cell_type": "code",
   "execution_count": null,
   "id": "00edbdae",
   "metadata": {},
   "outputs": [],
   "source": [
    "# _xdf = filter_xdf(xdf, relaxed_traj)"
   ]
  },
  {
   "cell_type": "code",
   "execution_count": null,
   "id": "7f70faee",
   "metadata": {},
   "outputs": [],
   "source": [
    "# len(_xdf.smiles.unique())"
   ]
  },
  {
   "cell_type": "code",
   "execution_count": null,
   "id": "cc2eeac1-44b7-4cf8-9bbe-0717ea4c3363",
   "metadata": {},
   "outputs": [],
   "source": [
    "# chemiscope.show(\n",
    "#     frames=[relaxed_traj[i] for i in _xdf.traj_index.values],\n",
    "#     properties=_xdf.to_dict(orient='list'),\n",
    "#     mode='default',\n",
    "# )"
   ]
  },
  {
   "cell_type": "code",
   "execution_count": null,
   "id": "e62d874c",
   "metadata": {},
   "outputs": [
    {
     "ename": "NameError",
     "evalue": "name 'chemiscope' is not defined",
     "output_type": "error",
     "traceback": [
      "\u001b[0;31m---------------------------------------------------------------------------\u001b[0m",
      "\u001b[0;31mNameError\u001b[0m                                 Traceback (most recent call last)",
      "Cell \u001b[0;32mIn[287], line 1\u001b[0m\n\u001b[0;32m----> 1\u001b[0m \u001b[43mchemiscope\u001b[49m\u001b[38;5;241m.\u001b[39mwrite_input(\n\u001b[1;32m      2\u001b[0m     frames\u001b[38;5;241m=\u001b[39m[center_fragment_in_cell(relaxed_traj[i], fragment_inds\u001b[38;5;241m=\u001b[39m[\u001b[38;5;241m1\u001b[39m]) \u001b[38;5;28;01mfor\u001b[39;00m i \u001b[38;5;129;01min\u001b[39;00m _xdf\u001b[38;5;241m.\u001b[39mtraj_index\u001b[38;5;241m.\u001b[39mvalues],\n\u001b[1;32m      3\u001b[0m     properties\u001b[38;5;241m=\u001b[39m_xdf\u001b[38;5;241m.\u001b[39mto_dict(orient\u001b[38;5;241m=\u001b[39m\u001b[38;5;124m'\u001b[39m\u001b[38;5;124mlist\u001b[39m\u001b[38;5;124m'\u001b[39m),\n\u001b[1;32m      4\u001b[0m     path\u001b[38;5;241m=\u001b[39m\u001b[38;5;124m'\u001b[39m\u001b[38;5;124mchemiscope_input.json\u001b[39m\u001b[38;5;124m'\u001b[39m\n\u001b[1;32m      5\u001b[0m     \u001b[38;5;66;03m# mode='default',\u001b[39;00m\n\u001b[1;32m      6\u001b[0m )\n",
      "\u001b[0;31mNameError\u001b[0m: name 'chemiscope' is not defined"
     ]
    }
   ],
   "source": [
    "chemiscope.write_input(\n",
    "    frames=[center_fragment_in_cell(relaxed_traj[i], fragment_inds=[1]) for i in _xdf.traj_index.values],\n",
    "    properties=_xdf.to_dict(orient='list'),\n",
    "    path='chemiscope_input.json'\n",
    "    # mode='default',\n",
    ")"
   ]
  },
  {
   "cell_type": "markdown",
   "id": "274a0cef-86fd-4ec0-8967-aafb6f70769f",
   "metadata": {},
   "source": [
    "### plot atoms"
   ]
  },
  {
   "cell_type": "code",
   "execution_count": null,
   "id": "d55bc893-158f-445c-b8b7-3d237adbab62",
   "metadata": {},
   "outputs": [],
   "source": [
    "plot_most_stable(_xdf, relaxed_traj)"
   ]
  },
  {
   "cell_type": "code",
   "execution_count": null,
   "id": "e5c21bb6",
   "metadata": {},
   "outputs": [],
   "source": [
    "make_hist_plot(_xdf)"
   ]
  },
  {
   "cell_type": "code",
   "execution_count": null,
   "id": "724b8ab7",
   "metadata": {},
   "outputs": [],
   "source": [
    "ax, heat_map = plot_energy_heatmap(_xdf,\n",
    "                    column = 'energy_calibrated',\n",
    "                    std = 0.05,\n",
    "                    e_min=-0.1,\n",
    "                    e_max=3,\n",
    "                    resolution='auto',\n",
    "                    normalize=True,\n",
    "                    return_heatmap=True,\n",
    "                    T=True,\n",
    "                    cmap = \"Blues\"\n",
    "                    )"
   ]
  },
  {
   "cell_type": "code",
   "execution_count": null,
   "id": "944f7bcd",
   "metadata": {},
   "outputs": [],
   "source": [
    "ax, heat_map = plot_energy_heatmap(_xdf,\n",
    "                    column = 'energy_calibrated',\n",
    "                    std = 0.05,\n",
    "                    # e_max=_xdf.energy_calibrated.max()+5*std,\n",
    "                    # e_min=_xdf.energy_calibrated.min()-5*std,\n",
    "                    e_min=-0.1,\n",
    "                    e_max=3,\n",
    "                    resolution='auto',\n",
    "                    normalize=False,\n",
    "                    return_heatmap=True,\n",
    "                    T=True)"
   ]
  },
  {
   "cell_type": "code",
   "execution_count": null,
   "id": "84b3a7c8",
   "metadata": {},
   "outputs": [],
   "source": [
    "# sns.stripplot(\n",
    "#     data=_xdf, x=\"total_bill\", y=\"day\", hue=\"time\",\n",
    "#     jitter=False, s=20, marker=\"D\", linewidth=1, alpha=.1,\n",
    "# )"
   ]
  },
  {
   "cell_type": "markdown",
   "id": "b83d7c71",
   "metadata": {},
   "source": [
    "## paper prep"
   ]
  },
  {
   "cell_type": "code",
   "execution_count": null,
   "id": "d205a19d",
   "metadata": {},
   "outputs": [],
   "source": [
    "# # all_files = glob('./RELAX/relax_Cu211_get_population/prerelax/MACE*.xyz')\n",
    "# all_files = glob('./relax_*/MACE*.xyz')\n",
    "# mpid=[[n for n in file.split('_') if 'mp-' in n][0] for file in all_files]\n",
    "# pid =[[n for n in all_files[0].split('/') if '#' in n][0] for file in all_files]\n",
    "\n",
    "# # rdf, relaxed_traj = read_relax_dir(all_files)\n",
    "# # _ = rdf.pop('site')\n",
    "# # rdf['origin'] = ['aads' for _ in rdf['uid']]\n",
    "\n",
    "# # # rdf['mpid'] = mpid"
   ]
  },
  {
   "cell_type": "code",
   "execution_count": null,
   "id": "752dbb28",
   "metadata": {},
   "outputs": [],
   "source": [
    "relaxed_traj = read('./collect_junwu/relaxed_traj.xyz', index=':')\n",
    "rdf = pd.read_csv('./collect_junwu/data_rdf.csv')\n",
    "\n",
    "_tmp = {}\n",
    "for k in ast.literal_eval(rdf.slab_info.values[0]).keys():\n",
    "    _tmp[k] = [ast.literal_eval(d)[k] for d in rdf.slab_info.values]\n",
    "    rdf[k] = _tmp[k]\n",
    "\n",
    "pid = rdf['mpid'] + '-' + rdf['mi'] + '-' + rdf['iterm'].astype(str) #[f\"{ast.literal_eval(d)['mpid']}_{ast.literal_eval(d)['mi']}_{ast.literal_eval(d)['iterm']}\" for d in rdf.slab_info.values]\n",
    "rdf['pid'] = pid"
   ]
  },
  {
   "cell_type": "code",
   "execution_count": null,
   "id": "6e6642d3",
   "metadata": {},
   "outputs": [],
   "source": [
    "import json\n",
    "with open('./collect_junwu/identifiers.json') as f:\n",
    "    identifiers = json.load(f)\n",
    "smiles = [i.split('--')[1] for i in identifiers]"
   ]
  },
  {
   "cell_type": "code",
   "execution_count": null,
   "id": "20ec1396",
   "metadata": {},
   "outputs": [
    {
     "data": {
      "text/plain": [
       "True"
      ]
     },
     "execution_count": 8,
     "metadata": {},
     "output_type": "execute_result"
    }
   ],
   "source": [
    "len(relaxed_traj) == len(rdf)"
   ]
  },
  {
   "cell_type": "code",
   "execution_count": null,
   "id": "73e201f5",
   "metadata": {},
   "outputs": [
    {
     "data": {
      "text/plain": [
       "95741"
      ]
     },
     "execution_count": 9,
     "metadata": {},
     "output_type": "execute_result"
    }
   ],
   "source": [
    "len(rdf)"
   ]
  },
  {
   "cell_type": "code",
   "execution_count": null,
   "id": "4fbe08c7",
   "metadata": {},
   "outputs": [
    {
     "name": "stderr",
     "output_type": "stream",
     "text": [
      "/root/venvs/mace_env/lib/python3.12/site-packages/e3nn/o3/_wigner.py:10: UserWarning: Environment variable TORCH_FORCE_NO_WEIGHTS_ONLY_LOAD detected, since the`weights_only` argument was not explicitly passed to `torch.load`, forcing weights_only=False.\n",
      "  _Jd, _W3j_flat, _W3j_indices = torch.load(os.path.join(os.path.dirname(__file__), 'constants.pt'))\n"
     ]
    },
    {
     "name": "stdout",
     "output_type": "stream",
     "text": [
      "cuequivariance or cuequivariance_torch is not available. Cuequivariance acceleration will be disabled.\n",
      "Using float32 for MACECalculator, which is faster but less accurate. Recommended for MD. Use float64 for geometry optimization.\n"
     ]
    },
    {
     "name": "stderr",
     "output_type": "stream",
     "text": [
      "/root/venvs/mace_env/lib/python3.12/site-packages/mace/calculators/mace.py:139: UserWarning: Environment variable TORCH_FORCE_NO_WEIGHTS_ONLY_LOAD detected, since the`weights_only` argument was not explicitly passed to `torch.load`, forcing weights_only=False.\n",
      "  torch.load(f=model_path, map_location=device)\n"
     ]
    },
    {
     "name": "stdout",
     "output_type": "stream",
     "text": [
      "Default dtype float32 does not match model dtype float64, converting models to float32.\n",
      "Using TorchDFTD3Calculator for D3 dispersion corrections\n"
     ]
    },
    {
     "name": "stderr",
     "output_type": "stream",
     "text": [
      "/tmp/ipykernel_1089449/3835913130.py:9: FutureWarning: Please use atoms.calc = calc\n",
      "  ref_atoms.set_calculator(calc)\n",
      "/root/venvs/mace_env/lib/python3.12/site-packages/torch_dftd/torch_dftd3_calculator.py:98: UserWarning: Creating a tensor from a list of numpy.ndarrays is extremely slow. Please consider converting the list to a single numpy.ndarray with numpy.array() before converting to a tensor. (Triggered internally at /pytorch/torch/csrc/utils/tensor_new.cpp:254.)\n",
      "  cell: Optional[Tensor] = torch.tensor(\n",
      "/root/venvs/mace_env/lib/python3.12/site-packages/mace/calculators/mace.py:139: UserWarning: Environment variable TORCH_FORCE_NO_WEIGHTS_ONLY_LOAD detected, since the`weights_only` argument was not explicitly passed to `torch.load`, forcing weights_only=False.\n",
      "  torch.load(f=model_path, map_location=device)\n"
     ]
    },
    {
     "name": "stdout",
     "output_type": "stream",
     "text": [
      "Using float32 for MACECalculator, which is faster but less accurate. Recommended for MD. Use float64 for geometry optimization.\n",
      "Default dtype float32 does not match model dtype float64, converting models to float32.\n",
      "Using TorchDFTD3Calculator for D3 dispersion corrections\n"
     ]
    },
    {
     "name": "stderr",
     "output_type": "stream",
     "text": [
      "/tmp/ipykernel_1089449/3835913130.py:9: FutureWarning: Please use atoms.calc = calc\n",
      "  ref_atoms.set_calculator(calc)\n"
     ]
    },
    {
     "name": "stdout",
     "output_type": "stream",
     "text": [
      "Using float32 for MACECalculator, which is faster but less accurate. Recommended for MD. Use float64 for geometry optimization.\n",
      "Default dtype float32 does not match model dtype float64, converting models to float32.\n",
      "Using TorchDFTD3Calculator for D3 dispersion corrections\n"
     ]
    },
    {
     "name": "stderr",
     "output_type": "stream",
     "text": [
      "/root/venvs/mace_env/lib/python3.12/site-packages/mace/calculators/mace.py:139: UserWarning: Environment variable TORCH_FORCE_NO_WEIGHTS_ONLY_LOAD detected, since the`weights_only` argument was not explicitly passed to `torch.load`, forcing weights_only=False.\n",
      "  torch.load(f=model_path, map_location=device)\n",
      "/tmp/ipykernel_1089449/3835913130.py:9: FutureWarning: Please use atoms.calc = calc\n",
      "  ref_atoms.set_calculator(calc)\n"
     ]
    },
    {
     "name": "stdout",
     "output_type": "stream",
     "text": [
      "Using float32 for MACECalculator, which is faster but less accurate. Recommended for MD. Use float64 for geometry optimization.\n",
      "Default dtype float32 does not match model dtype float64, converting models to float32.\n",
      "Using TorchDFTD3Calculator for D3 dispersion corrections\n"
     ]
    },
    {
     "name": "stderr",
     "output_type": "stream",
     "text": [
      "/root/venvs/mace_env/lib/python3.12/site-packages/mace/calculators/mace.py:139: UserWarning: Environment variable TORCH_FORCE_NO_WEIGHTS_ONLY_LOAD detected, since the`weights_only` argument was not explicitly passed to `torch.load`, forcing weights_only=False.\n",
      "  torch.load(f=model_path, map_location=device)\n",
      "/tmp/ipykernel_1089449/3835913130.py:9: FutureWarning: Please use atoms.calc = calc\n",
      "  ref_atoms.set_calculator(calc)\n"
     ]
    },
    {
     "name": "stdout",
     "output_type": "stream",
     "text": [
      "Using float32 for MACECalculator, which is faster but less accurate. Recommended for MD. Use float64 for geometry optimization.\n",
      "Default dtype float32 does not match model dtype float64, converting models to float32.\n",
      "Using TorchDFTD3Calculator for D3 dispersion corrections\n"
     ]
    },
    {
     "name": "stderr",
     "output_type": "stream",
     "text": [
      "/root/venvs/mace_env/lib/python3.12/site-packages/mace/calculators/mace.py:139: UserWarning: Environment variable TORCH_FORCE_NO_WEIGHTS_ONLY_LOAD detected, since the`weights_only` argument was not explicitly passed to `torch.load`, forcing weights_only=False.\n",
      "  torch.load(f=model_path, map_location=device)\n",
      "/tmp/ipykernel_1089449/3835913130.py:9: FutureWarning: Please use atoms.calc = calc\n",
      "  ref_atoms.set_calculator(calc)\n"
     ]
    },
    {
     "name": "stdout",
     "output_type": "stream",
     "text": [
      "Using float32 for MACECalculator, which is faster but less accurate. Recommended for MD. Use float64 for geometry optimization.\n",
      "Default dtype float32 does not match model dtype float64, converting models to float32.\n",
      "Using TorchDFTD3Calculator for D3 dispersion corrections\n"
     ]
    },
    {
     "name": "stderr",
     "output_type": "stream",
     "text": [
      "/root/venvs/mace_env/lib/python3.12/site-packages/mace/calculators/mace.py:139: UserWarning: Environment variable TORCH_FORCE_NO_WEIGHTS_ONLY_LOAD detected, since the`weights_only` argument was not explicitly passed to `torch.load`, forcing weights_only=False.\n",
      "  torch.load(f=model_path, map_location=device)\n",
      "/tmp/ipykernel_1089449/3835913130.py:9: FutureWarning: Please use atoms.calc = calc\n",
      "  ref_atoms.set_calculator(calc)\n"
     ]
    }
   ],
   "source": [
    "from mace.calculators import mace_mp\n",
    "\n",
    "parent_en = {}\n",
    "for pid in rdf.pid.unique():\n",
    "    traj_index = rdf[rdf.pid.isin([pid])].traj_index.iloc[0]\n",
    "    atoms = relaxed_traj[traj_index].copy()\n",
    "    ref_atoms = atoms[[atom.index for atom in atoms if atoms.arrays['fragments'][atom.index] == 0]]\n",
    "    calc = mace_mp(model='./models/mace-mp-0b3-medium.model', dispersion=True, device='cpu')\n",
    "    ref_atoms.set_calculator(calc)\n",
    "    parent_en[pid] = ref_atoms.get_potential_energy()\n",
    "    ref_atoms.info={'pid': pid}\n",
    "\n",
    "ref_dict={\n",
    "    'C' : 0,\n",
    "    'O' : 0,\n",
    "    'H' : 0\n",
    "}\n",
    "\n",
    "# parent_en = read('./relax_Cu111_Cu2_try2/MACE_relax_Cu111_Cu2_slab.xyz', index=-1).get_potential_energy()\n",
    "\n",
    "xdf = compute_energy(rdf, ref_dict, parent_en)\n",
    "# xdf = xdf[xdf['energy']>-100]"
   ]
  },
  {
   "cell_type": "code",
   "execution_count": null,
   "id": "f02e173e",
   "metadata": {},
   "outputs": [],
   "source": [
    "bkp_xdf = xdf.copy()"
   ]
  },
  {
   "cell_type": "code",
   "execution_count": null,
   "id": "bd05990b",
   "metadata": {},
   "outputs": [],
   "source": [
    "def plot_energy_heatmap(_xdf, column, std, e_min, e_max, resolution, normalize,\n",
    "                        return_heatmap=False, T=False, cmap ='viridis', normalize_mode='max', ax=None):\n",
    "    heat_map = []\n",
    "    yticklabels = []\n",
    "    \n",
    "\n",
    "    for i, backbone in enumerate(_xdf.backbone.unique()):\n",
    "        for j, H in enumerate(_xdf.H.unique()):\n",
    "            df_slice = _xdf[_xdf.H.isin([H]) & _xdf.backbone.isin([backbone])]\n",
    "            if len(df_slice) > 0:\n",
    "                v = energy_descriptor_from_slice(\n",
    "                        df_slice,\n",
    "                        column=column,\n",
    "                        std=std,\n",
    "                        e_min=e_min,\n",
    "                        e_max=e_max,\n",
    "                        resolution=resolution,\n",
    "                        normalize=normalize,\n",
    "                        normalize_mode=normalize_mode\n",
    "                    )\n",
    "                heat_map.append(v[1])  \n",
    "                yticklabels.append(df_slice.calibrate_keys.values[0])\n",
    "    heat_map = np.array(heat_map)\n",
    "\n",
    "    xticklabels = []\n",
    "    wanted_labels = np.arange(-10, 10, 0.4)\n",
    "    for i, e in enumerate(v[0]):\n",
    "        if any(np.abs(e - wanted_labels) < 1e-2):\n",
    "            label = str(np.round(e, 1))\n",
    "            if label not in xticklabels + ['-0.0']:\n",
    "                xticklabels.append(label)\n",
    "            else:\n",
    "                xticklabels.append('')\n",
    "            \n",
    "        else:\n",
    "            xticklabels.append('')\n",
    "\n",
    "    if ax == None:\n",
    "        fig = plt.figure()\n",
    "        ax=fig.add_subplot(111)\n",
    "    if T==False:\n",
    "        sns.heatmap(heat_map, xticklabels=xticklabels, yticklabels=yticklabels, cbar=False, ax=ax)\n",
    "        for i in range(heat_map.shape[0]+1):\n",
    "            ax.axhline(i, color='white', lw=2 )\n",
    "    \n",
    "    else:\n",
    "        ax = sns.heatmap(heat_map.T, xticklabels=yticklabels, yticklabels=xticklabels, cbar=False, cmap=cmap, ax=ax)   \n",
    "        for i in range(heat_map.shape[1]+1):\n",
    "            ax.axvline(i, color='white', lw=0.5)\n",
    "    \n",
    "    ax.tick_params(axis='both', which='both', length=0)\n",
    "    ax.tick_params(axis='x', labelsize=6)\n",
    "    ax.tick_params(axis='y', labelsize=6)\n",
    "    ax.invert_yaxis()\n",
    "    \n",
    "    if return_heatmap:\n",
    "        return heat_map"
   ]
  },
  {
   "cell_type": "markdown",
   "id": "5ab8bee6",
   "metadata": {},
   "source": [
    "## Figure SI"
   ]
  },
  {
   "cell_type": "code",
   "execution_count": null,
   "id": "422b58b7",
   "metadata": {},
   "outputs": [
    {
     "name": "stderr",
     "output_type": "stream",
     "text": [
      "/root/venvs/mace_env/lib/python3.12/site-packages/autoadsorbate/plotting.py:79: SettingWithCopyWarning: \n",
      "A value is trying to be set on a copy of a slice from a DataFrame.\n",
      "Try using .loc[row_indexer,col_indexer] = value instead\n",
      "\n",
      "See the caveats in the documentation: https://pandas.pydata.org/pandas-docs/stable/user_guide/indexing.html#returning-a-view-versus-a-copy\n",
      "  _xdf['C_bonds_O'] = C_bonds_O\n",
      "/root/venvs/mace_env/lib/python3.12/site-packages/autoadsorbate/plotting.py:87: SettingWithCopyWarning: \n",
      "A value is trying to be set on a copy of a slice from a DataFrame.\n",
      "Try using .loc[row_indexer,col_indexer] = value instead\n",
      "\n",
      "See the caveats in the documentation: https://pandas.pydata.org/pandas-docs/stable/user_guide/indexing.html#returning-a-view-versus-a-copy\n",
      "  _xdf['backbone'] = backbone\n",
      "/root/venvs/mace_env/lib/python3.12/site-packages/autoadsorbate/plotting.py:95: SettingWithCopyWarning: \n",
      "A value is trying to be set on a copy of a slice from a DataFrame.\n",
      "Try using .loc[row_indexer,col_indexer] = value instead\n",
      "\n",
      "See the caveats in the documentation: https://pandas.pydata.org/pandas-docs/stable/user_guide/indexing.html#returning-a-view-versus-a-copy\n",
      "  _xdf['plot_float'] = [\n",
      "/root/venvs/mace_env/lib/python3.12/site-packages/autoadsorbate/plotting.py:98: SettingWithCopyWarning: \n",
      "A value is trying to be set on a copy of a slice from a DataFrame.\n",
      "Try using .loc[row_indexer,col_indexer] = value instead\n",
      "\n",
      "See the caveats in the documentation: https://pandas.pydata.org/pandas-docs/stable/user_guide/indexing.html#returning-a-view-versus-a-copy\n",
      "  _xdf['plot_float'] = _xdf['plot_float'] * 0.2\n",
      "/root/venvs/mace_env/lib/python3.12/site-packages/autoadsorbate/plotting.py:99: SettingWithCopyWarning: \n",
      "A value is trying to be set on a copy of a slice from a DataFrame.\n",
      "Try using .loc[row_indexer,col_indexer] = value instead\n",
      "\n",
      "See the caveats in the documentation: https://pandas.pydata.org/pandas-docs/stable/user_guide/indexing.html#returning-a-view-versus-a-copy\n",
      "  _xdf['H_max'] = [map_H_max[_xdf.backbone_formula.values[i]] for i in range(len(_xdf))]\n"
     ]
    },
    {
     "name": "stdout",
     "output_type": "stream",
     "text": [
      "remaining values in DF: 69876\n"
     ]
    }
   ],
   "source": [
    "xdf = bkp_xdf.copy()\n",
    "# xdf = xdf[(xdf.material_formula == 'Cu') & xdf.mi.isin(['1#1#1','1#0#0'])]\n",
    "_xdf = filter_xdf(xdf, relaxed_traj)"
   ]
  },
  {
   "cell_type": "code",
   "execution_count": null,
   "id": "1eb677e1",
   "metadata": {},
   "outputs": [
    {
     "data": {
      "image/png": "[encoded data removed]",
      "text/plain": [
       "<Figure size 720x500 with 6 Axes>"
      ]
     },
     "execution_count": 219,
     "metadata": {},
     "output_type": "execute_result"
    }
   ],
   "source": [
    "font = {'size'   : 7}\n",
    "matplotlib.rc('font', **font)\n",
    "\n",
    "fig, axs = plt.subplots(len(_xdf.pid.unique()), 1, figsize=[7.2,5], sharex=True)\n",
    "\n",
    "for i, pid in enumerate(_xdf.pid.unique()):\n",
    "    sns.histplot(_xdf[_xdf.pid==pid], x='energy_calibrated', hue='pid', ax=axs[i], binrange=[0,8], binwidth=0.1)\n",
    "\n",
    "fig.set_layout_engine(layout='tight')\n",
    "fig"
   ]
  },
  {
   "cell_type": "code",
   "execution_count": null,
   "id": "de120d82",
   "metadata": {},
   "outputs": [],
   "source": [
    "fig.savefig('figure_S_histogram.png', dpi=600)"
   ]
  },
  {
   "cell_type": "code",
   "execution_count": null,
   "id": "a362a43c",
   "metadata": {},
   "outputs": [],
   "source": [
    "import itertools\n",
    "\n",
    "# for mi in rdf.mi.unique()[:1]:\n",
    "for metal in rdf.material_formula.unique():\n",
    "# for mi, metal in list(itertools.product(rdf.mi.unique(), rdf.material_formula.unique()))[:]:\n",
    "   \n",
    "    print(mi)\n",
    "\n",
    "    xdf = bkp_xdf.copy()\n",
    "    # xdf = xdf[xdf.mi.isin([mi])]\n",
    "    xdf = xdf[xdf.material_formula == metal]\n",
    "    # xdf = xdf[(xdf.material_formula == metal) & xdf.mi.isin([mi])]\n",
    "    _xdf = filter_xdf(xdf, relaxed_traj)\n",
    "\n",
    "    fig, axs = plt.subplots(\n",
    "        ncols=len(_xdf.H.unique()),\n",
    "        nrows=len(_xdf.backbone.unique()),\n",
    "        figsize=[7.2,8]\n",
    "    )\n",
    "\n",
    "    _xdf = _xdf.sort_values(by=['H', 'backbone'])\n",
    "\n",
    "    view_atoms = []\n",
    "\n",
    "    for i, backbone in enumerate(_xdf.backbone.unique()):\n",
    "        for j, H in enumerate(_xdf.H.unique()):\n",
    "\n",
    "            ax = axs[i,j]\n",
    "            \n",
    "            df_slice = _xdf[_xdf.H.isin([H]) & _xdf.backbone.isin([backbone])]\n",
    "            # df_slice.sort_values(by=['energy', 'backbone', 'H'],ascending=True)\n",
    "            df_slice=df_slice[df_slice.energy==df_slice.energy.min()]\n",
    "            \n",
    "            if len(df_slice) > 0:\n",
    "                e = np.round(df_slice.iloc[0].energy,2)\n",
    "                origin = df_slice.iloc[0].origin\n",
    "                traj_index = df_slice.iloc[0].traj_index\n",
    "                \n",
    "                atoms = relaxed_traj[traj_index].copy()\n",
    "                atoms_center = get_fragment_center(atoms, fragment_index=1)\n",
    "                atoms_center[2]=0\n",
    "                half_cell = atoms.cell[1]*.5 + atoms.cell[0]*.5\n",
    "                atoms.positions += - atoms_center + half_cell\n",
    "                # atoms.positions += - atoms_center + (atoms.cell[0][0]+atoms.cell[1][0])*0.5 + (atoms.cell[0][1]+atoms.cell[1][1])*0.5\n",
    "                atoms.wrap()\n",
    "                # atoms.positions -= half_cell\n",
    "                                \n",
    "                plot_atoms(atoms, ax, rotation=('0x,0y,0z'), show_unit_cell=0)\n",
    "                # ax.set_title(atoms.info['adsorbate_info']['smiles'], size=8)\n",
    "\n",
    "                ax.set_title(df_slice.material_formula.iloc[0]+' '+f\"({df_slice.mi.iloc[0].replace('#','')})\", size=7)\n",
    "                \n",
    "            ax.set_axis_off()\n",
    "            # x = cell[0][0] + cell[1][0]\n",
    "            # y = cell[0][1] + cell[1][1]\n",
    "            ax.set_xlim((atoms.cell[0][0]+atoms.cell[1][0])*0.5-2.5, (atoms.cell[0][0]+atoms.cell[1][0])*0.5+4.5)\n",
    "            ax.set_ylim((atoms.cell[0][1]+atoms.cell[1][1])*0.5-2.1, (atoms.cell[0][1]+atoms.cell[1][1])*0.5+3.8)\n",
    "            \n",
    "            view_atoms.append(atoms)\n",
    "\n",
    "    fig.set_layout_engine(layout='tight')\n",
    "\n",
    "    # fig.savefig(f\"figure_S_{metal}{mi.replace('#','')}_most_stable.png\", dpi=600)\n",
    "    # fig.savefig(f\"figure_S_{mi.replace('#','')}_most_stable.png\", dpi=600)\n",
    "    fig.savefig(f\"figure_S_{metal}_most_stable.png\", dpi=600)\n",
    "    # fig.savefig(f\"figure_S_most_stable.png\", dpi=600)\n",
    "    \n",
    "    "
   ]
  },
  {
   "cell_type": "code",
   "execution_count": 318,
   "id": "b556bc60",
   "metadata": {},
   "outputs": [],
   "source": [
    "# fig"
   ]
  },
  {
   "cell_type": "markdown",
   "id": "d7259bad",
   "metadata": {},
   "source": [
    "## figure MS"
   ]
  },
  {
   "cell_type": "markdown",
   "id": "24179686",
   "metadata": {},
   "source": [
    "### fig2"
   ]
  },
  {
   "cell_type": "code",
   "execution_count": null,
   "id": "5f16b366",
   "metadata": {},
   "outputs": [
    {
     "name": "stderr",
     "output_type": "stream",
     "text": [
      "/root/venvs/mace_env/lib/python3.12/site-packages/autoadsorbate/plotting.py:79: SettingWithCopyWarning: \n",
      "A value is trying to be set on a copy of a slice from a DataFrame.\n",
      "Try using .loc[row_indexer,col_indexer] = value instead\n",
      "\n",
      "See the caveats in the documentation: https://pandas.pydata.org/pandas-docs/stable/user_guide/indexing.html#returning-a-view-versus-a-copy\n",
      "  _xdf['C_bonds_O'] = C_bonds_O\n"
     ]
    },
    {
     "name": "stdout",
     "output_type": "stream",
     "text": [
      "remaining values in DF: 10994\n"
     ]
    },
    {
     "name": "stderr",
     "output_type": "stream",
     "text": [
      "/root/venvs/mace_env/lib/python3.12/site-packages/autoadsorbate/plotting.py:87: SettingWithCopyWarning: \n",
      "A value is trying to be set on a copy of a slice from a DataFrame.\n",
      "Try using .loc[row_indexer,col_indexer] = value instead\n",
      "\n",
      "See the caveats in the documentation: https://pandas.pydata.org/pandas-docs/stable/user_guide/indexing.html#returning-a-view-versus-a-copy\n",
      "  _xdf['backbone'] = backbone\n",
      "/root/venvs/mace_env/lib/python3.12/site-packages/autoadsorbate/plotting.py:95: SettingWithCopyWarning: \n",
      "A value is trying to be set on a copy of a slice from a DataFrame.\n",
      "Try using .loc[row_indexer,col_indexer] = value instead\n",
      "\n",
      "See the caveats in the documentation: https://pandas.pydata.org/pandas-docs/stable/user_guide/indexing.html#returning-a-view-versus-a-copy\n",
      "  _xdf['plot_float'] = [\n",
      "/root/venvs/mace_env/lib/python3.12/site-packages/autoadsorbate/plotting.py:98: SettingWithCopyWarning: \n",
      "A value is trying to be set on a copy of a slice from a DataFrame.\n",
      "Try using .loc[row_indexer,col_indexer] = value instead\n",
      "\n",
      "See the caveats in the documentation: https://pandas.pydata.org/pandas-docs/stable/user_guide/indexing.html#returning-a-view-versus-a-copy\n",
      "  _xdf['plot_float'] = _xdf['plot_float'] * 0.2\n",
      "/root/venvs/mace_env/lib/python3.12/site-packages/autoadsorbate/plotting.py:99: SettingWithCopyWarning: \n",
      "A value is trying to be set on a copy of a slice from a DataFrame.\n",
      "Try using .loc[row_indexer,col_indexer] = value instead\n",
      "\n",
      "See the caveats in the documentation: https://pandas.pydata.org/pandas-docs/stable/user_guide/indexing.html#returning-a-view-versus-a-copy\n",
      "  _xdf['H_max'] = [map_H_max[_xdf.backbone_formula.values[i]] for i in range(len(_xdf))]\n"
     ]
    }
   ],
   "source": [
    "xdf = bkp_xdf.copy()\n",
    "xdf = xdf[(xdf.material_formula == 'Pd') & xdf.mi.isin(['1#1#1'])]\n",
    "_xdf = filter_xdf(xdf, relaxed_traj)"
   ]
  },
  {
   "cell_type": "code",
   "execution_count": null,
   "id": "b7338700",
   "metadata": {},
   "outputs": [],
   "source": [
    "backbone_formulas = _xdf.backbone.unique()\n",
    "width_ratios = [len(_xdf[_xdf.backbone.isin([bckbone])].calibrate_keys.unique()) for bckbone in backbone_formulas] \n",
    "\n",
    "fig, axs = plt.subplots(1, len(backbone_formulas), figsize=[7.2, 2], sharex=False, sharey=True,\n",
    "                        gridspec_kw={'width_ratios': width_ratios}\n",
    "                        )\n",
    "\n",
    "num_dict = {}\n",
    "\n",
    "for i, bckbone in enumerate(backbone_formulas):\n",
    "    \n",
    "    ax = axs[i]\n",
    "\n",
    "    pdf = _xdf[_xdf.backbone.isin([bckbone])].copy()\n",
    "    pdf = pdf.sort_values(by=['calibrate_keys'])\n",
    "\n",
    "    calibrate_keys = []\n",
    "    for k in pdf.calibrate_keys.values:\n",
    "        k = k.replace('H0', '')\n",
    "        k = k.replace('H1', 'H')\n",
    "        k = k.replace('-', '')\n",
    "        for n in [str(_n) for _n in range(10)]:\n",
    "            k = k.replace(n, f'$_{n}$')\n",
    "        calibrate_keys.append(k)\n",
    "    \n",
    "    pdf['calibrate_keys'] = calibrate_keys\n",
    "\n",
    "    heat_map = plot_energy_heatmap(pdf,\n",
    "                        column = 'energy_calibrated',\n",
    "                        std = 0.05,\n",
    "                        e_min=-0.2,\n",
    "                        e_max=1.6,\n",
    "                        resolution='auto',\n",
    "                        normalize=True,\n",
    "                        normalize_mode='max',\n",
    "                        return_heatmap=True,\n",
    "                        cmap='plasma',\n",
    "                        T=True,\n",
    "                        ax=ax)\n",
    "    \n",
    "        # ax.set_title(f\"{pdf.material_formula.values[0]} ({mi.replace('#', '')})\", fontdict = {'fontsize': 8})\n",
    "    \n",
    "    ax.tick_params(top=True, labeltop=True, bottom=False, labelbottom=False)\n",
    "    ax.tick_params(\"x\", rotation=90)\n",
    "\n",
    "    if i==0:\n",
    "        ax.set_ylabel('E$_{ads}$ $_{rel}$ / eV', fontdict = {'fontsize': 7})\n",
    "    num_dict[f\"backbone\"] = heat_map\n",
    "\n",
    "fig.subplots_adjust(hspace=0.1, wspace=0.2)\n",
    "fig.set_layout_engine(layout='tight')"
   ]
  },
  {
   "cell_type": "code",
   "execution_count": null,
   "id": "c77dd83e",
   "metadata": {},
   "outputs": [],
   "source": [
    "# fig, ax = plt.subplots(1,1)\n",
    "# sns.heatmap(np.array([np.arange(-0.2, 1.6, 0.05/7)]).T, cmap='jet', ax=ax)\n",
    "# fig\n"
   ]
  },
  {
   "cell_type": "code",
   "execution_count": null,
   "id": "e0c650b5",
   "metadata": {},
   "outputs": [
    {
     "data": {
      "image/png": "[encoded data removed]",
      "text/plain": [
       "<Figure size 518.4x144 with 8 Axes>"
      ]
     },
     "execution_count": 132,
     "metadata": {},
     "output_type": "execute_result"
    }
   ],
   "source": [
    "fig"
   ]
  },
  {
   "cell_type": "code",
   "execution_count": null,
   "id": "e20ae26f",
   "metadata": {},
   "outputs": [],
   "source": [
    "fig.savefig('./energy_heatmap_Cu111_max.png', dpi=900)"
   ]
  },
  {
   "cell_type": "code",
   "execution_count": null,
   "id": "336487e3",
   "metadata": {},
   "outputs": [
    {
     "name": "stdout",
     "output_type": "stream",
     "text": [
      "214\n",
      "98\n",
      "157\n",
      "133\n"
     ]
    },
    {
     "name": "stderr",
     "output_type": "stream",
     "text": [
      "/tmp/ipykernel_1089449/4000127771.py:85: UserWarning: This figure was using a layout engine that is incompatible with subplots_adjust and/or tight_layout; not calling subplots_adjust.\n",
      "  fig.subplots_adjust(hspace=0.0, wspace=0.05)\n"
     ]
    }
   ],
   "source": [
    "fig, axs = plt.subplots(2, 4, figsize=[7.2, 3], sharex=False, sharey=False, gridspec_kw={'height_ratios': [1, 2.5]}, layout='compressed')\n",
    "\n",
    "# e_is = [0.7, 0.5, 0.5, 0.2]\n",
    "e_is = [[0.,0.2,0.6,0.7],[0.,0.1,.2,.6],[0,.2,.5,.7],[0,0.2,0.4,1.]]\n",
    "perplexities = [20, 10, 15,15]\n",
    "\n",
    "plot_trj = []\n",
    "\n",
    "for j, ck in enumerate(['C2O-H4', 'CO-H2', 'CO2-H2', 'COC-H4']):\n",
    "    ax = axs[0, j]\n",
    "    pdf = _xdf[_xdf.calibrate_keys.isin([ck])].copy()\n",
    "\n",
    "    # for e in pdf.energy_calibrated.values:\n",
    "    e = pdf.energy_calibrated.values\n",
    "    energy_range, energy_values = get_gaussian_vectors(e, std = 0.05, e_min = -0.2, e_max = 1.6, resolution=0.001, normalize=True, normalize_mode='max')\n",
    "\n",
    "    print(len(e[e<1.6]))\n",
    "    for e_i in e[e<1.6]:\n",
    "        i = find_index_by_energy(e_i, energy_range)\n",
    "        ax.plot([energy_range[i], energy_range[i]], [energy_values[i], -1], linewidth=0.3, color='#ccccccff', alpha=0.6, zorder=0)\n",
    "    ax.plot(energy_range, energy_values, color='#ccccccff', alpha=1,zorder=0)\n",
    "    sns.scatterplot(x=energy_range, y=energy_values, hue=energy_values, alpha=1, ax=ax, legend=False, palette='plasma', markers='o', s=5, linewidth=0)\n",
    "    \n",
    "    # i = np.where(energy_values == np.max(energy_values))[0][0]\n",
    "    # e_i = energy_values[i]\n",
    "    # i = find_index_by_energy(e_i, pdf.energy_calibrated.values, _thr=0.3)\n",
    "    # e_i = pdf.energy_calibrated.values[i]\n",
    "    # i = find_index_by_energy(e_i, energy_range)\n",
    "    # ax.plot([energy_range[i], energy_range[i]], [energy_values[i], -1], linewidth=0.5, color='black', alpha=1, zorder=10, marker='o', markersize=2)\n",
    "\n",
    "    \n",
    "    _pdf = pdf[pdf['energy_calibrated']==pdf['energy_calibrated'].min()]\n",
    "    # plot_trj.append(relaxed_traj[_pdf.traj_index.values[0]])\n",
    "    \n",
    "    # e_i = _pdf.energy_calibrated.values[0]\n",
    "    # i = find_index_by_energy(e_i, energy_range)\n",
    "    # ax.plot([energy_range[i], energy_range[i]], [energy_values[i], -1], linewidth=0.5, color='black', alpha=1, zorder=10, marker='o', markersize=5)\n",
    "    \n",
    "    for x in e_is[j]:\n",
    "        _pdf = pdf[pdf.energy_calibrated > x]\n",
    "        _pdf = _pdf[_pdf['energy_calibrated']==_pdf['energy_calibrated'].min()]\n",
    "        \n",
    "        e_i = _pdf.energy_calibrated.values[0]\n",
    "        \n",
    "        smiles = _pdf.smiles.values[0]\n",
    "        _a = relaxed_traj[_pdf.traj_index.values[0]].copy()\n",
    "        _a.info['smiles'] = smiles\n",
    "        plot_trj.append(_a)\n",
    "\n",
    "        i = find_index_by_energy(e_i, energy_range)\n",
    "        ax.plot([energy_range[i], energy_range[i]], [energy_values[i], -1], linewidth=0.5, color='black', alpha=1, zorder=20, marker='x', markersize=5, mfc='none')\n",
    "    \n",
    "\n",
    "    ax.tick_params(axis='y', which='both', length=0)\n",
    "    ax.tick_params(axis='x', which='both', length=2)\n",
    "    ax.tick_params(axis='x', labelsize=6)\n",
    "    ax.tick_params(axis='y', labelsize=6)\n",
    "\n",
    "    ax.set_xlabel('E$_{ads}$ $_{rel}$ / eV', fontdict = {'fontsize': 7})\n",
    "    if j == 0:\n",
    "        ax.set_ylabel('DOS$_{ads}$', fontdict = {'fontsize': 7})\n",
    "    ax.get_yaxis().set_ticklabels([])\n",
    "    ax.set_ylim([-0.01, 1.1])\n",
    "    ax.set_xlim([-0.2, 1.6])\n",
    "\n",
    "    ax = axs[1, j]\n",
    "    c_trj = [relaxed_traj[i] for i in pdf.traj_index.values]    \n",
    "    X_2d = get_tsne_from_traj(c_trj, perplexity=perplexities[j])\n",
    "    \n",
    "    x=X_2d[:,0]\n",
    "    y=X_2d[:,1]\n",
    "    z=pdf.energy_calibrated.values\n",
    "    points = ax.scatter(x, y, c=z, s=10, cmap='jet', alpha=0.7, linewidth=0.7, vmin=0, vmax=1.6, edgecolors='black')\n",
    "    \n",
    "    \n",
    "    ax.set_xlabel('TNSE$_{1}$', fontdict = {'fontsize': 7})\n",
    "    if j == 0:\n",
    "        ax.set_ylabel('TNSE$_{2}$', fontdict = {'fontsize': 7})\n",
    "    ax.set_box_aspect(aspect=1)\n",
    "    ax.tick_params(axis='both', which='both', length=0)\n",
    "    ax.get_xaxis().set_ticklabels([])\n",
    "    ax.get_yaxis().set_ticklabels([])\n",
    "    \n",
    "\n",
    "fig.subplots_adjust(hspace=0.0, wspace=0.05)\n",
    "fig.set_layout_engine(layout='tight')\n",
    "\n",
    "# cbar = fig.colorbar(points, ax=[axs[1,n] for n in [0,1,2,3]], orientation='vertical', location='right', shrink=0.6)\n",
    "# cbar.set_label('E$_{ads}$ $_{rel}$ / eV', fontsize=6)\n",
    "# ticklabs = cbar.ax.get_yticklabels()\n",
    "# cbar.ax.set_yticklabels(ticklabs, fontsize=6)\n"
   ]
  },
  {
   "cell_type": "code",
   "execution_count": null,
   "id": "ea41fc6b",
   "metadata": {},
   "outputs": [
    {
     "data": {
      "image/png": "[encoded data removed]",
      "text/plain": [
       "<Figure size 518.4x216 with 8 Axes>"
      ]
     },
     "execution_count": 189,
     "metadata": {},
     "output_type": "execute_result"
    }
   ],
   "source": [
    "fig"
   ]
  },
  {
   "cell_type": "code",
   "execution_count": null,
   "id": "8639971d",
   "metadata": {},
   "outputs": [],
   "source": [
    "fig.savefig('./energy_heatmap_Cu111_max_pt2.png', dpi=900)"
   ]
  },
  {
   "cell_type": "code",
   "execution_count": null,
   "id": "d81e8662",
   "metadata": {},
   "outputs": [
    {
     "name": "stdout",
     "output_type": "stream",
     "text": [
      "S1SOC1C\n",
      "Cl[OH+][CH-][CH2]\n",
      "Cl[OH+][C]C\n",
      "Cl[OH+][C]C\n"
     ]
    }
   ],
   "source": [
    "for a in plot_trj[0:4]:\n",
    "    print(a.info['smiles'])"
   ]
  },
  {
   "cell_type": "code",
   "execution_count": null,
   "id": "06b442ab",
   "metadata": {},
   "outputs": [
    {
     "data": {
      "text/plain": [
       "<Popen: returncode: None args: ['/root/venvs/mace_env/bin/python', '-m', 'as...>"
      ]
     },
     "execution_count": 185,
     "metadata": {},
     "output_type": "execute_result"
    }
   ],
   "source": [
    "view(plot_trj)"
   ]
  },
  {
   "cell_type": "code",
   "execution_count": null,
   "id": "6bad1b6a",
   "metadata": {},
   "outputs": [
    {
     "data": {
      "text/plain": [
       "<Popen: returncode: None args: ['/root/venvs/mace_env/bin/python', '-m', 'as...>"
      ]
     },
     "execution_count": 179,
     "metadata": {},
     "output_type": "execute_result"
    }
   ],
   "source": [
    "blend_trj = []\n",
    "for atoms in plot_trj:\n",
    "    a = atoms.copy()\n",
    "    shift = atoms.cell[0]*0.4 + atoms.cell[1]*0.4\n",
    "    cms = a[[atom.index for atom in a if a.arrays['fragments'][atom.index] > 0]].get_center_of_mass()\n",
    "    cms[2] = 0\n",
    "    a.positions += shift - cms\n",
    "    a.wrap()\n",
    "    blend_trj.append(a)\n",
    "\n",
    "view(blend_trj)"
   ]
  },
  {
   "cell_type": "code",
   "execution_count": null,
   "id": "940d9a0d",
   "metadata": {},
   "outputs": [
    {
     "data": {
      "text/plain": [
       "<Popen: returncode: None args: ['/root/venvs/mace_env/bin/python', '-m', 'as...>"
      ]
     },
     "execution_count": 187,
     "metadata": {},
     "output_type": "execute_result"
    }
   ],
   "source": [
    "xx_trj = []\n",
    "for s in ['S1SCC1O']:\n",
    "    _xx = rdf[rdf.smiles==s]\n",
    "    for idx in _xx.traj_index:\n",
    "        xx_trj.append(relaxed_traj[idx].copy())\n",
    "\n",
    "view(xx_trj)"
   ]
  },
  {
   "cell_type": "code",
   "execution_count": null,
   "id": "4cf9480c",
   "metadata": {},
   "outputs": [],
   "source": [
    "\n",
    "from autoadsorbate.utils import get_blenderized"
   ]
  },
  {
   "cell_type": "code",
   "execution_count": null,
   "id": "0e19e85b",
   "metadata": {},
   "outputs": [],
   "source": [
    "bt= get_blenderized(blend_trj, scale=[3, 1, 1], hide_spot=[0,0,0])\n",
    "write('blenderized_fig2.xyz', bt)\n",
    "\n",
    "bt= get_blenderized(blend_trj, scale=[1, 3, 1], hide_spot=[0,0,0])\n",
    "write('blenderized_fig2_b.xyz', bt)"
   ]
  },
  {
   "cell_type": "code",
   "execution_count": null,
   "id": "fbb0012a",
   "metadata": {},
   "outputs": [
    {
     "data": {
      "text/plain": [
       "<Popen: returncode: None args: ['/root/venvs/mace_env/bin/python', '-m', 'as...>"
      ]
     },
     "execution_count": 183,
     "metadata": {},
     "output_type": "execute_result"
    }
   ],
   "source": [
    "view(bt)"
   ]
  },
  {
   "cell_type": "markdown",
   "id": "a52299b6",
   "metadata": {},
   "source": [
    "### fig3"
   ]
  },
  {
   "cell_type": "code",
   "execution_count": null,
   "id": "45d1ab3d",
   "metadata": {},
   "outputs": [
    {
     "name": "stderr",
     "output_type": "stream",
     "text": [
      "/root/venvs/mace_env/lib/python3.12/site-packages/autoadsorbate/plotting.py:79: SettingWithCopyWarning: \n",
      "A value is trying to be set on a copy of a slice from a DataFrame.\n",
      "Try using .loc[row_indexer,col_indexer] = value instead\n",
      "\n",
      "See the caveats in the documentation: https://pandas.pydata.org/pandas-docs/stable/user_guide/indexing.html#returning-a-view-versus-a-copy\n",
      "  _xdf['C_bonds_O'] = C_bonds_O\n",
      "/root/venvs/mace_env/lib/python3.12/site-packages/autoadsorbate/plotting.py:87: SettingWithCopyWarning: \n",
      "A value is trying to be set on a copy of a slice from a DataFrame.\n",
      "Try using .loc[row_indexer,col_indexer] = value instead\n",
      "\n",
      "See the caveats in the documentation: https://pandas.pydata.org/pandas-docs/stable/user_guide/indexing.html#returning-a-view-versus-a-copy\n",
      "  _xdf['backbone'] = backbone\n",
      "/root/venvs/mace_env/lib/python3.12/site-packages/autoadsorbate/plotting.py:95: SettingWithCopyWarning: \n",
      "A value is trying to be set on a copy of a slice from a DataFrame.\n",
      "Try using .loc[row_indexer,col_indexer] = value instead\n",
      "\n",
      "See the caveats in the documentation: https://pandas.pydata.org/pandas-docs/stable/user_guide/indexing.html#returning-a-view-versus-a-copy\n",
      "  _xdf['plot_float'] = [\n",
      "/root/venvs/mace_env/lib/python3.12/site-packages/autoadsorbate/plotting.py:98: SettingWithCopyWarning: \n",
      "A value is trying to be set on a copy of a slice from a DataFrame.\n",
      "Try using .loc[row_indexer,col_indexer] = value instead\n",
      "\n",
      "See the caveats in the documentation: https://pandas.pydata.org/pandas-docs/stable/user_guide/indexing.html#returning-a-view-versus-a-copy\n",
      "  _xdf['plot_float'] = _xdf['plot_float'] * 0.2\n",
      "/root/venvs/mace_env/lib/python3.12/site-packages/autoadsorbate/plotting.py:99: SettingWithCopyWarning: \n",
      "A value is trying to be set on a copy of a slice from a DataFrame.\n",
      "Try using .loc[row_indexer,col_indexer] = value instead\n",
      "\n",
      "See the caveats in the documentation: https://pandas.pydata.org/pandas-docs/stable/user_guide/indexing.html#returning-a-view-versus-a-copy\n",
      "  _xdf['H_max'] = [map_H_max[_xdf.backbone_formula.values[i]] for i in range(len(_xdf))]\n"
     ]
    },
    {
     "name": "stdout",
     "output_type": "stream",
     "text": [
      "remaining values in DF: 69876\n"
     ]
    }
   ],
   "source": [
    "xdf = bkp_xdf.copy()\n",
    "# xdf = xdf[(xdf.material_formula == 'Cu') & xdf.mi.isin(['1#1#1','1#0#0'])]\n",
    "_xdf = filter_xdf(xdf, relaxed_traj)"
   ]
  },
  {
   "cell_type": "code",
   "execution_count": null,
   "id": "6ca79a39",
   "metadata": {},
   "outputs": [],
   "source": [
    "# _xdf = bkp_xdf.copy()\n",
    "mis = ['1#1#1','1#0#0', '2#1#1']#_xdf.mi.unique()\n",
    "# mpids = _xdf.mpid.unique()\n",
    "mpids = ['mp-30', 'mp-2']#_xdf.mpid.unique()\n",
    "\n",
    "fig, axs = plt.subplots(len(mis), len(mpids), figsize=[7.2, 173/25.4], sharex=True, sharey=True)\n",
    "\n",
    "num_dict = {}\n",
    "\n",
    "for i, mpid in enumerate(mpids):\n",
    "    for j, mi in enumerate(mis):\n",
    "\n",
    "        pdf = _xdf[_xdf.mi.isin([mi]) & _xdf.mpid.isin([mpid])].copy()\n",
    "        pdf = pdf.sort_values(by=['calibrate_keys'])\n",
    "\n",
    "        calibrate_keys = []\n",
    "        for k in pdf.calibrate_keys.values:\n",
    "            k = k.replace('H0', '')\n",
    "            k = k.replace('H1', 'H')\n",
    "            k = k.replace('-', '')\n",
    "            for n in [str(_n) for _n in range(10)]:\n",
    "                k = k.replace(n, f'$_{n}$')\n",
    "            calibrate_keys.append(k)\n",
    "        pdf['calibrate_keys'] = calibrate_keys\n",
    "\n",
    "        if len(mpids) == 1:\n",
    "            ax = axs[j]\n",
    "        else:\n",
    "            ax = axs[j,i]\n",
    "            \n",
    "        heat_map = plot_energy_heatmap(pdf,\n",
    "                            column = 'energy_calibrated',\n",
    "                            std = 0.05,\n",
    "                            e_min=-0.1,\n",
    "                            e_max=3,\n",
    "                            resolution='auto',\n",
    "                            normalize=True,\n",
    "                            normalize_mode='max',\n",
    "                            return_heatmap=True,\n",
    "                            cmap='plasma',\n",
    "                            T=True,\n",
    "                            ax=ax)\n",
    "        ax.set_title(f\"{pdf.material_formula.values[0]} ({mi.replace('#', '')})\", fontdict = {'fontsize': 8})\n",
    "        if i == 0:\n",
    "            ax.set_ylabel('E$_{ads}$ $_{rel}$ / eV', fontdict = {'fontsize': 7})\n",
    "        num_dict[f\"{mpid}_{mi}_0\"] = heat_map\n",
    "\n",
    "fig.subplots_adjust(hspace=0.1, wspace=0.2)\n",
    "fig.set_layout_engine(layout='tight')"
   ]
  },
  {
   "cell_type": "code",
   "execution_count": null,
   "id": "a9208e27",
   "metadata": {},
   "outputs": [
    {
     "data": {
      "image/png": "[encoded data removed]",
      "text/plain": [
       "<Figure size 518.4x490.394 with 6 Axes>"
      ]
     },
     "metadata": {},
     "output_type": "display_data"
    }
   ],
   "source": [
    "fig"
   ]
  },
  {
   "cell_type": "code",
   "execution_count": null,
   "id": "8eda2afa",
   "metadata": {},
   "outputs": [],
   "source": [
    "fig.savefig('./figure3.png', dpi=900)"
   ]
  },
  {
   "cell_type": "code",
   "execution_count": null,
   "id": "7a310ac6",
   "metadata": {},
   "outputs": [],
   "source": [
    "def plot_energy_heatmap_smiles(_xdf, column, std, e_min, e_max, resolution, normalize,\n",
    "                        return_heatmap=False, T=False, cmap ='viridis', normalize_mode='max', ax=None):\n",
    "    \n",
    "    heat_map = []\n",
    "    yticklabels = []\n",
    "    \n",
    "    for i, smiles in enumerate(_xdf.smiles.unique()):\n",
    "        df_slice = _xdf[_xdf.smiles.isin([smiles])]\n",
    "        if len(df_slice) > 0:\n",
    "            v = energy_descriptor_from_slice(\n",
    "                    df_slice,\n",
    "                    column=column,\n",
    "                    std=std,\n",
    "                    e_min=e_min,\n",
    "                    e_max=e_max,\n",
    "                    resolution=resolution,\n",
    "                    normalize=normalize,\n",
    "                    normalize_mode=normalize_mode\n",
    "                )\n",
    "            heat_map.append(v[1])  \n",
    "            yticklabels.append(smiles)\n",
    "    heat_map = np.array(heat_map)\n",
    "\n",
    "    xticklabels = []\n",
    "    wanted_labels = np.arange(-10, 10, 0.4)\n",
    "    for i, e in enumerate(v[0]):\n",
    "        if any(np.abs(e - wanted_labels) < 1e-2):\n",
    "            label = str(np.round(e, 1))\n",
    "            if label not in xticklabels + ['-0.0']:\n",
    "                xticklabels.append(label)\n",
    "            else:\n",
    "                xticklabels.append('')\n",
    "            \n",
    "        else:\n",
    "            xticklabels.append('')\n",
    "\n",
    "    if ax == None:\n",
    "        fig = plt.figure()\n",
    "        ax=fig.add_subplot(111)\n",
    "    if T==False:\n",
    "        sns.heatmap(heat_map, xticklabels=xticklabels, yticklabels=yticklabels, cbar=False, ax=ax)\n",
    "        for i in range(heat_map.shape[0]+1):\n",
    "            ax.axhline(i, color='white', lw=2 )\n",
    "    \n",
    "    else:\n",
    "        ax = sns.heatmap(heat_map.T, xticklabels=yticklabels, yticklabels=xticklabels, cbar=False, cmap=cmap, ax=ax)   \n",
    "        for i in range(heat_map.shape[1]+1):\n",
    "            ax.axvline(i, color='white', lw=0.5)\n",
    "    \n",
    "    ax.tick_params(axis='both', which='both', length=0)\n",
    "    ax.tick_params(axis='x', labelsize=6)\n",
    "    ax.tick_params(axis='y', labelsize=6)\n",
    "    ax.invert_yaxis()\n",
    "    \n",
    "    if return_heatmap:\n",
    "        return heat_map"
   ]
  },
  {
   "cell_type": "code",
   "execution_count": null,
   "id": "e2add108",
   "metadata": {},
   "outputs": [],
   "source": [
    "pdf = _xdf[(_xdf.calibrate_keys == 'C2O-H4')].copy()\n",
    "\n",
    "sort_keys = {}\n",
    "for smiles in pdf.smiles.unique():\n",
    "    sort_keys[smiles] = pdf[pdf.smiles==smiles].energy_calibrated.min()\n",
    "\n",
    "\n",
    "pdf['sort_plot_en'] = [sort_keys[smiles] for smiles in pdf.smiles.values]\n",
    "pdf = pdf.sort_values(by=['sort_plot_en'])\n",
    "\n",
    "pdf = pdf[pdf.sort_plot_en < 1.5]"
   ]
  },
  {
   "cell_type": "code",
   "execution_count": null,
   "id": "b7a83580",
   "metadata": {},
   "outputs": [
    {
     "data": {
      "text/plain": [
       "46"
      ]
     },
     "execution_count": 80,
     "metadata": {},
     "output_type": "execute_result"
    }
   ],
   "source": [
    "len(pdf.smiles.unique())"
   ]
  },
  {
   "cell_type": "code",
   "execution_count": null,
   "id": "be6431e4",
   "metadata": {},
   "outputs": [],
   "source": [
    "fig, ax = plt.subplots(1,1, figsize=[7.2, 2.5], sharex=False, sharey=True,\n",
    "                        # gridspec_kw={'width_ratios': width_ratios}\n",
    "                        )\n",
    "plot_energy_heatmap_smiles(pdf.sort_values(by=['energy_calibrated']), column='energy_calibrated', std = 0.05, e_min = -0.2,\n",
    "                           e_max = 1.6, resolution=0.001, normalize=True, normalize_mode='integral', return_heatmap=False, T=True, cmap ='plasma', ax = ax)\n",
    "\n",
    "ax.set_ylabel('E$_{ads}$ $_{rel}$ / eV', fontdict = {'fontsize': 7})\n",
    "fig.subplots_adjust(hspace=0.0, wspace=0.05)\n",
    "fig.set_layout_engine(layout='tight')"
   ]
  },
  {
   "cell_type": "code",
   "execution_count": null,
   "id": "8219033f",
   "metadata": {},
   "outputs": [
    {
     "data": {
      "image/png": "[encoded data removed]",
      "text/plain": [
       "<Figure size 518.4x180 with 1 Axes>"
      ]
     },
     "execution_count": 82,
     "metadata": {},
     "output_type": "execute_result"
    }
   ],
   "source": [
    "fig"
   ]
  },
  {
   "cell_type": "code",
   "execution_count": null,
   "id": "d0ee3260",
   "metadata": {},
   "outputs": [],
   "source": [
    "fig.savefig('./energy_heatmap_Cu111_max_pt3.png', dpi=900, transparent=True)"
   ]
  },
  {
   "cell_type": "code",
   "execution_count": null,
   "id": "15ea1dc7",
   "metadata": {},
   "outputs": [],
   "source": [
    "from dscribe.descriptors import SOAP\n",
    "from sklearn.manifold import TSNE\n",
    "\n",
    "def get_tsne_from_traj(c_trj, perplexity=20.0):\n",
    "    species = list(set([atom.symbol for atom in c_trj[0]]))\n",
    "    r_cut = 6.0\n",
    "    n_max = 8\n",
    "    l_max = 6\n",
    "\n",
    "    # Setting up the SOAP descriptor\n",
    "    soap = SOAP(\n",
    "        species=species,\n",
    "        periodic=True,\n",
    "        r_cut=r_cut,\n",
    "        n_max=n_max,\n",
    "        l_max=l_max,\n",
    "    )\n",
    "\n",
    "\n",
    "    soap_desc = [soap.create(a) for a in c_trj]\n",
    "\n",
    "    tsne = TSNE(n_components=2, random_state=0, perplexity=perplexity)\n",
    "\n",
    "    X_2d = tsne.fit_transform(np.array(soap_desc).reshape(len(soap_desc), -1))\n",
    "\n",
    "    return X_2d\n",
    "\n",
    "def find_index_by_energy(e_i, energy_range, _thr=0.01):\n",
    "    index_candidates = np.where(np.abs(energy_range - e_i)<_thr)[0]\n",
    "    while len(index_candidates) > 1:\n",
    "        # print(_thr, len(index_candidates))\n",
    "        _thr-=0.000001\n",
    "        index_candidates = np.where(np.abs(energy_range - e_i)<_thr)[0]\n",
    "    index = index_candidates[0]\n",
    "    return index\n",
    "\n",
    "e_i = e[10]\n",
    "# energy_range[find_index_by_energy(e_i, energy_range)]\n",
    "\n",
    "\n"
   ]
  },
  {
   "cell_type": "code",
   "execution_count": null,
   "id": "c6619947",
   "metadata": {},
   "outputs": [],
   "source": []
  },
  {
   "cell_type": "markdown",
   "id": "8871d974",
   "metadata": {},
   "source": [
    "### figure 1 pt2"
   ]
  },
  {
   "cell_type": "code",
   "execution_count": 324,
   "id": "f4de7f6b",
   "metadata": {},
   "outputs": [],
   "source": [
    "import os\n",
    "# import json\n",
    "# import numpy as np\n",
    "# from ase.io import read\n",
    "\n",
    "path = './collect_junwu/'\n",
    "\n",
    "# with open(os.path.join(path, 'identifiers.json')) as f:\n",
    "#     identifiers = json.load(f)\n",
    "\n",
    "# energy_array = np.load(os.path.join(path, 'energy_array.npy'))\n",
    "# smiles = [i.split('--')[1] for i in identifiers]\n",
    "# pid = [i.split('--')[0].split('elax_')[-1] for i in identifiers]\n",
    "# relaxed_traj = read(os.path.join(path, 'relaxed_traj.xyz'), index=':')\n",
    "parent_traj = read(os.path.join(path, 'parent_traj.xyz'), index=':')"
   ]
  },
  {
   "cell_type": "code",
   "execution_count": null,
   "id": "9005a23b",
   "metadata": {},
   "outputs": [
    {
     "data": {
      "text/plain": [
       "<Popen: returncode: None args: ['/root/venvs/mace_env/bin/python', '-m', 'as...>"
      ]
     },
     "execution_count": 325,
     "metadata": {},
     "output_type": "execute_result"
    },
    {
     "name": "stderr",
     "output_type": "stream",
     "text": [
      "Traceback (most recent call last):\n",
      "  File \"<frozen runpy>\", line 198, in _run_module_as_main\n",
      "  File \"<frozen runpy>\", line 88, in _run_code\n",
      "  File \"/root/venvs/mace_env/lib/python3.12/site-packages/ase/gui/pipe.py\", line 32, in <module>\n",
      "    main()\n",
      "  File \"/root/venvs/mace_env/lib/python3.12/site-packages/ase/gui/pipe.py\", line 28, in main\n",
      "    plt.show()\n",
      "  File \"/root/venvs/mace_env/lib/python3.12/site-packages/matplotlib/pyplot.py\", line 614, in show\n",
      "    return _get_backend_mod().show(*args, **kwargs)\n",
      "           ^^^^^^^^^^^^^^^^^^^^^^^^^^^^^^^^^^^^^^^^\n",
      "  File \"/root/venvs/mace_env/lib/python3.12/site-packages/matplotlib_inline/backend_inline.py\", line 90, in show\n",
      "    display(\n",
      "  File \"/root/venvs/mace_env/lib/python3.12/site-packages/IPython/core/display_functions.py\", line 265, in display\n",
      "    print(*objs)\n",
      "ValueError: I/O operation on closed file.\n"
     ]
    }
   ],
   "source": [
    "view(parent_traj)"
   ]
  },
  {
   "cell_type": "code",
   "execution_count": null,
   "id": "32e4f60d",
   "metadata": {},
   "outputs": [],
   "source": [
    "atoms = parent_traj[0].copy()\n",
    "s= Surface(atoms)\n",
    "s.sym_reduce()"
   ]
  },
  {
   "cell_type": "code",
   "execution_count": 365,
   "id": "a6d3b914",
   "metadata": {},
   "outputs": [
    {
     "data": {
      "text/plain": [
       "<Popen: returncode: None args: ['/root/venvs/mace_env/bin/python', '-m', 'as...>"
      ]
     },
     "execution_count": 365,
     "metadata": {},
     "output_type": "execute_result"
    }
   ],
   "source": [
    "x_trj = []\n",
    "\n",
    "for atoms in parent_traj:\n",
    "    s= Surface(atoms)\n",
    "    s.sym_reduce()\n",
    "\n",
    "\n",
    "    for i in s.site_df.index.values:\n",
    "        site_marker = s.view_site(i, return_atoms=True) \n",
    "\n",
    "        for atom in site_marker:\n",
    "            if atom.symbol in ['Cu', 'Pd']:\n",
    "                atom.symbol = 'Zn'\n",
    "            if atom.symbol =='X':\n",
    "                atom.symbol = 'He'\n",
    "        \n",
    "        x_atoms= s.atoms.copy()\n",
    "        x_atoms +=site_marker\n",
    "        he_cms = x_atoms[[atom.index for atom in x_atoms if atom.symbol =='He']].get_center_of_mass()\n",
    "        x_atoms.positions = x_atoms.positions + atoms.cell[0]*0.5 + atoms.cell[1]*0.5 - he_cms \n",
    "        x_atoms.wrap()\n",
    "        he_cms = x_atoms[[atom.index for atom in x_atoms if atom.symbol =='He']].get_center_of_mass()\n",
    "        he_cms[2]=0\n",
    "        x_atoms*=[3,3,1]\n",
    "        x_atoms.positions -= he_cms\n",
    "        \n",
    "        x_trj .append(x_atoms)\n",
    "\n",
    "view(x_trj)"
   ]
  },
  {
   "cell_type": "code",
   "execution_count": 363,
   "id": "833dd43e",
   "metadata": {},
   "outputs": [
    {
     "data": {
      "text/plain": [
       "<Popen: returncode: None args: ['/root/venvs/mace_env/bin/python', '-m', 'as...>"
      ]
     },
     "execution_count": 363,
     "metadata": {},
     "output_type": "execute_result"
    }
   ],
   "source": [
    "view(x_trj)"
   ]
  },
  {
   "cell_type": "code",
   "execution_count": null,
   "id": "b162fd89",
   "metadata": {},
   "outputs": [],
   "source": [
    "bt = get_blenderized(x_trj, scale=[1,1,1], hide_spot=[-50,0,0])\n",
    "write('sites.xyz', bt)"
   ]
  },
  {
   "cell_type": "code",
   "execution_count": null,
   "id": "43d3b7c5",
   "metadata": {},
   "outputs": [],
   "source": []
  }
 ],
 "metadata": {
  "kernelspec": {
   "display_name": "aads",
   "language": "python",
   "name": "python3"
  },
  "language_info": {
   "codemirror_mode": {
    "name": "ipython",
    "version": 3
   },
   "file_extension": ".py",
   "mimetype": "text/x-python",
   "name": "python",
   "nbconvert_exporter": "python",
   "pygments_lexer": "ipython3",
   "version": "3.12.8"
  }
 },
 "nbformat": 4,
 "nbformat_minor": 5
}
